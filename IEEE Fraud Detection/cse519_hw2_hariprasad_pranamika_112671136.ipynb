{
  "nbformat": 4,
  "nbformat_minor": 0,
  "metadata": {
    "kernelspec": {
      "display_name": "Python 2",
      "language": "python",
      "name": "python2"
    },
    "language_info": {
      "codemirror_mode": {
        "name": "ipython",
        "version": 2
      },
      "file_extension": ".py",
      "mimetype": "text/x-python",
      "name": "python",
      "nbconvert_exporter": "python",
      "pygments_lexer": "ipython2",
      "version": "2.7.16"
    },
    "colab": {
      "name": "cse519_hw2_hariprasad_pranamika_112671136.ipynb",
      "provenance": []
    }
  },
  "cells": [
    {
      "cell_type": "markdown",
      "metadata": {
        "id": "lnmKgdgW_gti",
        "colab_type": "text"
      },
      "source": [
        "# Homework 2 - IEEE Fraud Detection"
      ]
    },
    {
      "cell_type": "markdown",
      "metadata": {
        "id": "sJnsBrtg_gtk",
        "colab_type": "text"
      },
      "source": [
        "For all parts below, answer all parts as shown in the Google document for Homework 2. Be sure to include both code that justifies your answer as well as text to answer the questions. We also ask that code be commented to make it easier to follow."
      ]
    },
    {
      "cell_type": "markdown",
      "metadata": {
        "id": "-UYb159q_gtm",
        "colab_type": "text"
      },
      "source": [
        "## Part 1 - Fraudulent vs Non-Fraudulent Transaction"
      ]
    },
    {
      "cell_type": "code",
      "metadata": {
        "id": "N9ta1aWG_gtn",
        "colab_type": "code",
        "colab": {}
      },
      "source": [
        "import matplotlib as plt\n",
        "import pandas as pd\n",
        "import numpy as np\n",
        "import seaborn as sns\n",
        "import matplotlib.pyplot as plt\n",
        "\n"
      ],
      "execution_count": 0,
      "outputs": []
    },
    {
      "cell_type": "code",
      "metadata": {
        "id": "wyKBO3Ng_gtu",
        "colab_type": "code",
        "colab": {},
        "outputId": "f9a56cd8-4070-48b8-e403-b9242ca2c74a"
      },
      "source": [
        "df=pd.read_csv(\"D:\\\\Anaconda\\\\train_transaction.csv\")\n",
        "de=pd.read_csv(\"D:\\\\Anaconda\\\\train_transaction.csv\")\n",
        "df=df[['TransactionID','isFraud','TransactionDT','TransactionAmt','ProductCD','card4','card6','P_emaildomain','R_emaildomain','addr1','addr2','dist1','dist2']]\n",
        "df.head()"
      ],
      "execution_count": 0,
      "outputs": [
        {
          "output_type": "execute_result",
          "data": {
            "text/html": [
              "<div>\n",
              "<style scoped>\n",
              "    .dataframe tbody tr th:only-of-type {\n",
              "        vertical-align: middle;\n",
              "    }\n",
              "\n",
              "    .dataframe tbody tr th {\n",
              "        vertical-align: top;\n",
              "    }\n",
              "\n",
              "    .dataframe thead th {\n",
              "        text-align: right;\n",
              "    }\n",
              "</style>\n",
              "<table border=\"1\" class=\"dataframe\">\n",
              "  <thead>\n",
              "    <tr style=\"text-align: right;\">\n",
              "      <th></th>\n",
              "      <th>TransactionID</th>\n",
              "      <th>isFraud</th>\n",
              "      <th>TransactionDT</th>\n",
              "      <th>TransactionAmt</th>\n",
              "      <th>ProductCD</th>\n",
              "      <th>card4</th>\n",
              "      <th>card6</th>\n",
              "      <th>P_emaildomain</th>\n",
              "      <th>R_emaildomain</th>\n",
              "      <th>addr1</th>\n",
              "      <th>addr2</th>\n",
              "      <th>dist1</th>\n",
              "      <th>dist2</th>\n",
              "    </tr>\n",
              "  </thead>\n",
              "  <tbody>\n",
              "    <tr>\n",
              "      <th>0</th>\n",
              "      <td>2987000</td>\n",
              "      <td>0</td>\n",
              "      <td>86400</td>\n",
              "      <td>68.5</td>\n",
              "      <td>W</td>\n",
              "      <td>discover</td>\n",
              "      <td>credit</td>\n",
              "      <td>NaN</td>\n",
              "      <td>NaN</td>\n",
              "      <td>315.0</td>\n",
              "      <td>87.0</td>\n",
              "      <td>19.0</td>\n",
              "      <td>NaN</td>\n",
              "    </tr>\n",
              "    <tr>\n",
              "      <th>1</th>\n",
              "      <td>2987001</td>\n",
              "      <td>0</td>\n",
              "      <td>86401</td>\n",
              "      <td>29.0</td>\n",
              "      <td>W</td>\n",
              "      <td>mastercard</td>\n",
              "      <td>credit</td>\n",
              "      <td>gmail.com</td>\n",
              "      <td>NaN</td>\n",
              "      <td>325.0</td>\n",
              "      <td>87.0</td>\n",
              "      <td>NaN</td>\n",
              "      <td>NaN</td>\n",
              "    </tr>\n",
              "    <tr>\n",
              "      <th>2</th>\n",
              "      <td>2987002</td>\n",
              "      <td>0</td>\n",
              "      <td>86469</td>\n",
              "      <td>59.0</td>\n",
              "      <td>W</td>\n",
              "      <td>visa</td>\n",
              "      <td>debit</td>\n",
              "      <td>outlook.com</td>\n",
              "      <td>NaN</td>\n",
              "      <td>330.0</td>\n",
              "      <td>87.0</td>\n",
              "      <td>287.0</td>\n",
              "      <td>NaN</td>\n",
              "    </tr>\n",
              "    <tr>\n",
              "      <th>3</th>\n",
              "      <td>2987003</td>\n",
              "      <td>0</td>\n",
              "      <td>86499</td>\n",
              "      <td>50.0</td>\n",
              "      <td>W</td>\n",
              "      <td>mastercard</td>\n",
              "      <td>debit</td>\n",
              "      <td>yahoo.com</td>\n",
              "      <td>NaN</td>\n",
              "      <td>476.0</td>\n",
              "      <td>87.0</td>\n",
              "      <td>NaN</td>\n",
              "      <td>NaN</td>\n",
              "    </tr>\n",
              "    <tr>\n",
              "      <th>4</th>\n",
              "      <td>2987004</td>\n",
              "      <td>0</td>\n",
              "      <td>86506</td>\n",
              "      <td>50.0</td>\n",
              "      <td>H</td>\n",
              "      <td>mastercard</td>\n",
              "      <td>credit</td>\n",
              "      <td>gmail.com</td>\n",
              "      <td>NaN</td>\n",
              "      <td>420.0</td>\n",
              "      <td>87.0</td>\n",
              "      <td>NaN</td>\n",
              "      <td>NaN</td>\n",
              "    </tr>\n",
              "  </tbody>\n",
              "</table>\n",
              "</div>"
            ],
            "text/plain": [
              "   TransactionID  isFraud  TransactionDT  TransactionAmt ProductCD  \\\n",
              "0        2987000        0          86400            68.5         W   \n",
              "1        2987001        0          86401            29.0         W   \n",
              "2        2987002        0          86469            59.0         W   \n",
              "3        2987003        0          86499            50.0         W   \n",
              "4        2987004        0          86506            50.0         H   \n",
              "\n",
              "        card4   card6 P_emaildomain R_emaildomain  addr1  addr2  dist1  dist2  \n",
              "0    discover  credit           NaN           NaN  315.0   87.0   19.0    NaN  \n",
              "1  mastercard  credit     gmail.com           NaN  325.0   87.0    NaN    NaN  \n",
              "2        visa   debit   outlook.com           NaN  330.0   87.0  287.0    NaN  \n",
              "3  mastercard   debit     yahoo.com           NaN  476.0   87.0    NaN    NaN  \n",
              "4  mastercard  credit     gmail.com           NaN  420.0   87.0    NaN    NaN  "
            ]
          },
          "metadata": {
            "tags": []
          },
          "execution_count": 2
        }
      ]
    },
    {
      "cell_type": "code",
      "metadata": {
        "id": "j7rtWVs__gtz",
        "colab_type": "code",
        "colab": {}
      },
      "source": [
        "distavg=df['dist1'].mean()\n",
        "df['dist1']=df['dist1'].replace(np.nan,distavg)\n",
        "distavg2=df['dist2'].mean()\n",
        "df['dist2']=df['dist2'].replace(np.nan,distavg2)\n",
        "email=df['R_emaildomain'].value_counts().idxmax()\n",
        "df['R_emaildomain']=df['R_emaildomain'].replace(np.nan,email)\n",
        "email1=df['P_emaildomain'].value_counts().idxmax()\n",
        "df['P_emaildomain']=df['P_emaildomain'].replace(np.nan,email1)"
      ],
      "execution_count": 0,
      "outputs": []
    },
    {
      "cell_type": "code",
      "metadata": {
        "id": "A-vyN-zQ_gt2",
        "colab_type": "code",
        "colab": {}
      },
      "source": [
        "caard=df['card4'].value_counts().idxmax()\n",
        "df['card4']=df['card4'].replace(np.nan,caard)\n",
        "caaard=df['card6'].value_counts().idxmax()\n",
        "df['card6']=df['card6'].replace(np.nan,caaard)\n",
        "addr11=df['addr1'].mean()\n",
        "df['addr1']=df['addr1'].replace(np.nan,addr11)\n",
        "addr22=df['addr2'].mean()\n",
        "df['addr2']=df['addr2'].replace(np.nan,addr22)"
      ],
      "execution_count": 0,
      "outputs": []
    },
    {
      "cell_type": "code",
      "metadata": {
        "id": "829SStHI_gt5",
        "colab_type": "code",
        "colab": {},
        "outputId": "bf768ff2-2f53-413e-e251-b38f56ac066e"
      },
      "source": [
        "df.isnull().sum(axis=0)"
      ],
      "execution_count": 0,
      "outputs": [
        {
          "output_type": "execute_result",
          "data": {
            "text/plain": [
              "TransactionID     0\n",
              "isFraud           0\n",
              "TransactionDT     0\n",
              "TransactionAmt    0\n",
              "ProductCD         0\n",
              "card4             0\n",
              "card6             0\n",
              "P_emaildomain     0\n",
              "R_emaildomain     0\n",
              "addr1             0\n",
              "addr2             0\n",
              "dist1             0\n",
              "dist2             0\n",
              "dtype: int64"
            ]
          },
          "metadata": {
            "tags": []
          },
          "execution_count": 5
        }
      ]
    },
    {
      "cell_type": "code",
      "metadata": {
        "id": "z2LtPwrI_gt8",
        "colab_type": "code",
        "colab": {}
      },
      "source": [
        "isfraud1 = df[df['isFraud']==1]\n",
        "notfraud1=df[df['isFraud']==0]"
      ],
      "execution_count": 0,
      "outputs": []
    },
    {
      "cell_type": "code",
      "metadata": {
        "id": "f3IMRYQj_gt9",
        "colab_type": "code",
        "colab": {},
        "outputId": "3aa1ce5f-62fc-4d66-b9ed-0636873258c0"
      },
      "source": [
        "plt.figure(figsize=(8,5))\n",
        "plot_tr = sns.countplot(x='isFraud',data=df)\n",
        "plot_tr.set_title(\"Count of Non-fraudulent & Fraudulent transactions\", fontsize=17)"
      ],
      "execution_count": 0,
      "outputs": [
        {
          "output_type": "execute_result",
          "data": {
            "text/plain": [
              "Text(0.5, 1.0, 'Count of Non-fraudulent & Fraudulent transactions')"
            ]
          },
          "metadata": {
            "tags": []
          },
          "execution_count": 7
        },
        {
          "output_type": "display_data",
          "data": {
            "image/png": "[encoded data removed]",
            "text/plain": [
              "<Figure size 576x360 with 1 Axes>"
            ]
          },
          "metadata": {
            "tags": [],
            "needs_background": "light"
          }
        }
      ]
    },
    {
      "cell_type": "code",
      "metadata": {
        "id": "7G9mndwM_gt_",
        "colab_type": "code",
        "colab": {},
        "outputId": "e78a2489-e4ce-4248-ced4-f87ff12cbb58"
      },
      "source": [
        "isfraud1.plot(kind='scatter',x='addr2',y='TransactionAmt')\n",
        "plt.figure(figsize=(18,5))\n",
        "notfraud1.plot(kind='scatter',x='addr2',y='TransactionAmt')\n",
        "plt.figure(figsize=(18,5))"
      ],
      "execution_count": 0,
      "outputs": [
        {
          "output_type": "execute_result",
          "data": {
            "text/plain": [
              "<Figure size 1296x360 with 0 Axes>"
            ]
          },
          "metadata": {
            "tags": []
          },
          "execution_count": 8
        },
        {
          "output_type": "display_data",
          "data": {
            "image/png": "[encoded data removed]",
            "text/plain": [
              "<Figure size 432x288 with 1 Axes>"
            ]
          },
          "metadata": {
            "tags": [],
            "needs_background": "light"
          }
        },
        {
          "output_type": "display_data",
          "data": {
            "text/plain": [
              "<Figure size 1296x360 with 0 Axes>"
            ]
          },
          "metadata": {
            "tags": []
          }
        },
        {
          "output_type": "display_data",
          "data": {
            "image/png": "[encoded data removed]",
            "text/plain": [
              "<Figure size 432x288 with 1 Axes>"
            ]
          },
          "metadata": {
            "tags": [],
            "needs_background": "light"
          }
        },
        {
          "output_type": "display_data",
          "data": {
            "text/plain": [
              "<Figure size 1296x360 with 0 Axes>"
            ]
          },
          "metadata": {
            "tags": []
          }
        }
      ]
    },
    {
      "cell_type": "code",
      "metadata": {
        "id": "7ryW2wcT_guB",
        "colab_type": "code",
        "colab": {},
        "outputId": "059773dc-17ee-4c60-80df-6f8499c8d7fc"
      },
      "source": [
        "isfraud1.plot(kind='scatter',x='addr1',y='TransactionAmt')\n",
        "plt.figure(figsize=(18,5))\n",
        "notfraud1.plot(kind='scatter',x='addr1',y='TransactionAmt')\n",
        "plt.figure(figsize=(18,5))"
      ],
      "execution_count": 0,
      "outputs": [
        {
          "output_type": "execute_result",
          "data": {
            "text/plain": [
              "<Figure size 1296x360 with 0 Axes>"
            ]
          },
          "metadata": {
            "tags": []
          },
          "execution_count": 9
        },
        {
          "output_type": "display_data",
          "data": {
            "image/png": "[encoded data removed]",
            "text/plain": [
              "<Figure size 432x288 with 1 Axes>"
            ]
          },
          "metadata": {
            "tags": [],
            "needs_background": "light"
          }
        },
        {
          "output_type": "display_data",
          "data": {
            "text/plain": [
              "<Figure size 1296x360 with 0 Axes>"
            ]
          },
          "metadata": {
            "tags": []
          }
        },
        {
          "output_type": "display_data",
          "data": {
            "image/png": "[encoded data removed]",
            "text/plain": [
              "<Figure size 432x288 with 1 Axes>"
            ]
          },
          "metadata": {
            "tags": [],
            "needs_background": "light"
          }
        },
        {
          "output_type": "display_data",
          "data": {
            "text/plain": [
              "<Figure size 1296x360 with 0 Axes>"
            ]
          },
          "metadata": {
            "tags": []
          }
        }
      ]
    },
    {
      "cell_type": "code",
      "metadata": {
        "id": "M3jSRRY6_guD",
        "colab_type": "code",
        "colab": {},
        "outputId": "892629db-74ca-4f25-f333-24a32bdc0892"
      },
      "source": [
        "plot_tr = sns.countplot(x='ProductCD',data=isfraud1)\n",
        "plt.figure(figsize=(6,5))\n",
        "plot_tr = sns.countplot(x='ProductCD',data=notfraud1)"
      ],
      "execution_count": 0,
      "outputs": [
        {
          "output_type": "display_data",
          "data": {
            "image/png": "[encoded data removed]",
            "text/plain": [
              "<Figure size 432x288 with 1 Axes>"
            ]
          },
          "metadata": {
            "tags": [],
            "needs_background": "light"
          }
        },
        {
          "output_type": "display_data",
          "data": {
            "image/png": "[encoded data removed]",
            "text/plain": [
              "<Figure size 432x360 with 1 Axes>"
            ]
          },
          "metadata": {
            "tags": [],
            "needs_background": "light"
          }
        }
      ]
    },
    {
      "cell_type": "code",
      "metadata": {
        "id": "A_GiVClZ_guF",
        "colab_type": "code",
        "colab": {},
        "outputId": "ec5c71c2-16fd-46fd-9be8-49a4881c55dc"
      },
      "source": [
        "plot_tr = sns.countplot(x='addr1',data=isfraud1)\n",
        "plt.figure(figsize=(6,5))\n",
        "plot_tr = sns.countplot(x='addr1',data=notfraud1)"
      ],
      "execution_count": 0,
      "outputs": [
        {
          "output_type": "display_data",
          "data": {
            "image/png": "[encoded data removed]",
            "text/plain": [
              "<Figure size 432x288 with 1 Axes>"
            ]
          },
          "metadata": {
            "tags": [],
            "needs_background": "light"
          }
        },
        {
          "output_type": "display_data",
          "data": {
            "image/png": "[encoded data removed]",
            "text/plain": [
              "<Figure size 432x360 with 1 Axes>"
            ]
          },
          "metadata": {
            "tags": [],
            "needs_background": "light"
          }
        }
      ]
    },
    {
      "cell_type": "code",
      "metadata": {
        "id": "WwEjQm8b_guH",
        "colab_type": "code",
        "colab": {},
        "outputId": "1605ea52-9685-4d25-ccb1-b283f5df59b4"
      },
      "source": [
        "sns.catplot(x=\"ProductCD\", y=\"TransactionAmt\", data=isfraud1);\n",
        "sns.catplot(x=\"ProductCD\", y=\"TransactionAmt\", data=notfraud1);"
      ],
      "execution_count": 0,
      "outputs": [
        {
          "output_type": "display_data",
          "data": {
            "image/png": "[encoded data removed]",
            "text/plain": [
              "<Figure size 360x360 with 1 Axes>"
            ]
          },
          "metadata": {
            "tags": [],
            "needs_background": "light"
          }
        },
        {
          "output_type": "display_data",
          "data": {
            "image/png": "[encoded data removed]",
            "text/plain": [
              "<Figure size 360x360 with 1 Axes>"
            ]
          },
          "metadata": {
            "tags": [],
            "needs_background": "light"
          }
        }
      ]
    },
    {
      "cell_type": "code",
      "metadata": {
        "id": "ISP5H51P_guJ",
        "colab_type": "code",
        "colab": {},
        "outputId": "e2b2f614-ad72-4263-b185-c0c87c093289"
      },
      "source": [
        "plot_tr = sns.countplot(x='card4',data=isfraud1)\n",
        "plt.figure(figsize=(6,5))\n",
        "plot_tr = sns.countplot(x='card4',data=notfraud1)"
      ],
      "execution_count": 0,
      "outputs": [
        {
          "output_type": "display_data",
          "data": {
            "image/png": "[encoded data removed]",
            "text/plain": [
              "<Figure size 432x288 with 1 Axes>"
            ]
          },
          "metadata": {
            "tags": [],
            "needs_background": "light"
          }
        },
        {
          "output_type": "display_data",
          "data": {
            "image/png": "[encoded data removed]",
            "text/plain": [
              "<Figure size 432x360 with 1 Axes>"
            ]
          },
          "metadata": {
            "tags": [],
            "needs_background": "light"
          }
        }
      ]
    },
    {
      "cell_type": "code",
      "metadata": {
        "id": "VuZCScG6_guK",
        "colab_type": "code",
        "colab": {},
        "outputId": "850883db-a68e-40e9-f365-a85ec2cc702c"
      },
      "source": [
        "plot_tr = sns.countplot(x='card6',data=isfraud1)\n",
        "plt.figure(figsize=(6,5))\n",
        "plot_tr = sns.countplot(x='card6',data=notfraud1)"
      ],
      "execution_count": 0,
      "outputs": [
        {
          "output_type": "display_data",
          "data": {
            "image/png": "[encoded data removed]",
            "text/plain": [
              "<Figure size 432x288 with 1 Axes>"
            ]
          },
          "metadata": {
            "tags": [],
            "needs_background": "light"
          }
        },
        {
          "output_type": "display_data",
          "data": {
            "image/png": "[encoded data removed]",
            "text/plain": [
              "<Figure size 432x360 with 1 Axes>"
            ]
          },
          "metadata": {
            "tags": [],
            "needs_background": "light"
          }
        }
      ]
    },
    {
      "cell_type": "code",
      "metadata": {
        "id": "vEXFnvzF_guM",
        "colab_type": "code",
        "colab": {},
        "outputId": "c17d9864-3805-4c9f-9df0-72e9958e22a7"
      },
      "source": [
        "sns.catplot(x=\"ProductCD\", kind=\"count\", palette=\"ch:.25\", data=isfraud1);\n",
        "sns.catplot(x=\"ProductCD\", kind=\"count\", palette=\"ch:.25\", data=notfraud1);"
      ],
      "execution_count": 0,
      "outputs": [
        {
          "output_type": "display_data",
          "data": {
            "image/png": "[encoded data removed]",
            "text/plain": [
              "<Figure size 360x360 with 1 Axes>"
            ]
          },
          "metadata": {
            "tags": [],
            "needs_background": "light"
          }
        },
        {
          "output_type": "display_data",
          "data": {
            "image/png": "[encoded data removed]",
            "text/plain": [
              "<Figure size 360x360 with 1 Axes>"
            ]
          },
          "metadata": {
            "tags": [],
            "needs_background": "light"
          }
        }
      ]
    },
    {
      "cell_type": "code",
      "metadata": {
        "id": "ZjRVbvpv_guN",
        "colab_type": "code",
        "colab": {},
        "outputId": "8a4209ab-449f-4301-d756-34b005359183"
      },
      "source": [
        "fig = plt.figure()\n",
        "ax = fig.add_subplot(111)\n",
        "\n",
        "isfraud1['P_emaildomain'].value_counts()[:8].plot(kind='bar',ax=ax,color='plum',position=1,width=0.6)\n",
        "plt.show()"
      ],
      "execution_count": 0,
      "outputs": [
        {
          "output_type": "display_data",
          "data": {
            "image/png": "[encoded data removed]",
            "text/plain": [
              "<Figure size 432x288 with 1 Axes>"
            ]
          },
          "metadata": {
            "tags": [],
            "needs_background": "light"
          }
        }
      ]
    },
    {
      "cell_type": "code",
      "metadata": {
        "id": "TTtDpCv8_guP",
        "colab_type": "code",
        "colab": {},
        "outputId": "5e4094b0-f97e-4da1-f558-d78dc0062514"
      },
      "source": [
        "fig = plt.figure() \n",
        "ax = fig.add_subplot(111)\n",
        "\n",
        "notfraud1['P_emaildomain'].value_counts()[:8].plot(kind='bar',ax=ax,color='coral',position=1,width=0.6)\n",
        "plt.show()"
      ],
      "execution_count": 0,
      "outputs": [
        {
          "output_type": "display_data",
          "data": {
            "image/png": "[encoded data removed]",
            "text/plain": [
              "<Figure size 432x288 with 1 Axes>"
            ]
          },
          "metadata": {
            "tags": [],
            "needs_background": "light"
          }
        }
      ]
    },
    {
      "cell_type": "code",
      "metadata": {
        "id": "gCA0HhHm_guR",
        "colab_type": "code",
        "colab": {},
        "outputId": "31b42628-c171-4288-8cd5-4fe44dacc924"
      },
      "source": [
        "fig = plt.figure()\n",
        "ax = fig.add_subplot(111)\n",
        "\n",
        "notfraud1['R_emaildomain'].value_counts()[:5].plot(kind='bar',ax=ax,color='teal',position=1,width=0.6)\n",
        "plt.show()"
      ],
      "execution_count": 0,
      "outputs": [
        {
          "output_type": "display_data",
          "data": {
            "image/png": "[encoded data removed]",
            "text/plain": [
              "<Figure size 432x288 with 1 Axes>"
            ]
          },
          "metadata": {
            "tags": [],
            "needs_background": "light"
          }
        }
      ]
    },
    {
      "cell_type": "code",
      "metadata": {
        "id": "jWjEF-PP_guS",
        "colab_type": "code",
        "colab": {},
        "outputId": "5a20ae2d-a6d0-435f-97fe-77bf0e2ba2db"
      },
      "source": [
        "fig = plt.figure()\n",
        "ax = fig.add_subplot(111)\n",
        "\n",
        "isfraud1['R_emaildomain'].value_counts()[:5].plot(kind='bar',ax=ax,color='pink',position=1,width=0.6)\n",
        "plt.show()"
      ],
      "execution_count": 0,
      "outputs": [
        {
          "output_type": "display_data",
          "data": {
            "image/png": "[encoded data removed]",
            "text/plain": [
              "<Figure size 432x288 with 1 Axes>"
            ]
          },
          "metadata": {
            "tags": [],
            "needs_background": "light"
          }
        }
      ]
    },
    {
      "cell_type": "markdown",
      "metadata": {
        "id": "qeJjT8v6_guU",
        "colab_type": "text"
      },
      "source": [
        "### *Segregated fraudulent and non-fraudulent transactions , and created a count plot for number of fraudulent transactions and non-fraudulent transactions where we can infer that 96.5% of the transactions are non-fraudulent"
      ]
    },
    {
      "cell_type": "markdown",
      "metadata": {
        "id": "bdpGZIgo_guU",
        "colab_type": "text"
      },
      "source": [
        "### *The  plot between addr2 and transaction amount indicates that the most number of fraudulent and non-fraudulent transactions occur in country code 87\n"
      ]
    },
    {
      "cell_type": "markdown",
      "metadata": {
        "id": "FVPWis1__guV",
        "colab_type": "text"
      },
      "source": [
        "### * Visa has the most number of fraudulent and non-fraudulent transactions followed by mastercard"
      ]
    },
    {
      "cell_type": "markdown",
      "metadata": {
        "id": "YZUK6pr__guV",
        "colab_type": "text"
      },
      "source": [
        "### * For purchaser's email id and recipient email id,the most frequent one is gmail for both fraudulent and non-fraudulent transactions"
      ]
    },
    {
      "cell_type": "markdown",
      "metadata": {
        "id": "gSXhDgKe_guV",
        "colab_type": "text"
      },
      "source": [
        "### *For columns with continuous values ,the NaN values are replaced with mean.For categorical columns,it is replaced with the most frequent record.After the cleaning is done,check if there are no more columns with NaN values"
      ]
    },
    {
      "cell_type": "markdown",
      "metadata": {
        "id": "zpFsLrSf_guV",
        "colab_type": "text"
      },
      "source": [
        "## Part 2 - Transaction Frequency"
      ]
    },
    {
      "cell_type": "code",
      "metadata": {
        "id": "huXX9KyQ_guW",
        "colab_type": "code",
        "colab": {},
        "outputId": "f8feba65-0f04-49ab-df17-fc43b25b0f49"
      },
      "source": [
        "# TODO: code to generate the frequency graph\n",
        "df['addr2'].value_counts().idxmax()"
      ],
      "execution_count": 0,
      "outputs": [
        {
          "output_type": "execute_result",
          "data": {
            "text/plain": [
              "87.0"
            ]
          },
          "metadata": {
            "tags": []
          },
          "execution_count": 21
        }
      ]
    },
    {
      "cell_type": "code",
      "metadata": {
        "id": "RHORsha8_guX",
        "colab_type": "code",
        "colab": {},
        "outputId": "e5049910-540a-430b-b3e4-2bc2baeb2c21"
      },
      "source": [
        "df.plot(kind=\"scatter\",x=\"TransactionID\",y=\"addr2\",c=\"plum\")"
      ],
      "execution_count": 0,
      "outputs": [
        {
          "output_type": "execute_result",
          "data": {
            "text/plain": [
              "<matplotlib.axes._subplots.AxesSubplot at 0x25aea517f98>"
            ]
          },
          "metadata": {
            "tags": []
          },
          "execution_count": 22
        },
        {
          "output_type": "display_data",
          "data": {
            "image/png": "[encoded data removed]",
            "text/plain": [
              "<Figure size 432x288 with 1 Axes>"
            ]
          },
          "metadata": {
            "tags": [],
            "needs_background": "light"
          }
        }
      ]
    },
    {
      "cell_type": "code",
      "metadata": {
        "id": "Gu72Z-Fb_guY",
        "colab_type": "code",
        "colab": {},
        "outputId": "1e491a42-f273-4966-d716-f2e729a70d46"
      },
      "source": [
        "df['TransactionDT'] = np.floor(df['TransactionDT'] / (3600) ) % 24       \n",
        "\n",
        "df.head()"
      ],
      "execution_count": 0,
      "outputs": [
        {
          "output_type": "execute_result",
          "data": {
            "text/html": [
              "<div>\n",
              "<style scoped>\n",
              "    .dataframe tbody tr th:only-of-type {\n",
              "        vertical-align: middle;\n",
              "    }\n",
              "\n",
              "    .dataframe tbody tr th {\n",
              "        vertical-align: top;\n",
              "    }\n",
              "\n",
              "    .dataframe thead th {\n",
              "        text-align: right;\n",
              "    }\n",
              "</style>\n",
              "<table border=\"1\" class=\"dataframe\">\n",
              "  <thead>\n",
              "    <tr style=\"text-align: right;\">\n",
              "      <th></th>\n",
              "      <th>TransactionID</th>\n",
              "      <th>isFraud</th>\n",
              "      <th>TransactionDT</th>\n",
              "      <th>TransactionAmt</th>\n",
              "      <th>ProductCD</th>\n",
              "      <th>card4</th>\n",
              "      <th>card6</th>\n",
              "      <th>P_emaildomain</th>\n",
              "      <th>R_emaildomain</th>\n",
              "      <th>addr1</th>\n",
              "      <th>addr2</th>\n",
              "      <th>dist1</th>\n",
              "      <th>dist2</th>\n",
              "    </tr>\n",
              "  </thead>\n",
              "  <tbody>\n",
              "    <tr>\n",
              "      <th>0</th>\n",
              "      <td>2987000</td>\n",
              "      <td>0</td>\n",
              "      <td>0.0</td>\n",
              "      <td>68.5</td>\n",
              "      <td>W</td>\n",
              "      <td>discover</td>\n",
              "      <td>credit</td>\n",
              "      <td>gmail.com</td>\n",
              "      <td>gmail.com</td>\n",
              "      <td>315.0</td>\n",
              "      <td>87.0</td>\n",
              "      <td>19.00000</td>\n",
              "      <td>231.855423</td>\n",
              "    </tr>\n",
              "    <tr>\n",
              "      <th>1</th>\n",
              "      <td>2987001</td>\n",
              "      <td>0</td>\n",
              "      <td>0.0</td>\n",
              "      <td>29.0</td>\n",
              "      <td>W</td>\n",
              "      <td>mastercard</td>\n",
              "      <td>credit</td>\n",
              "      <td>gmail.com</td>\n",
              "      <td>gmail.com</td>\n",
              "      <td>325.0</td>\n",
              "      <td>87.0</td>\n",
              "      <td>118.50218</td>\n",
              "      <td>231.855423</td>\n",
              "    </tr>\n",
              "    <tr>\n",
              "      <th>2</th>\n",
              "      <td>2987002</td>\n",
              "      <td>0</td>\n",
              "      <td>0.0</td>\n",
              "      <td>59.0</td>\n",
              "      <td>W</td>\n",
              "      <td>visa</td>\n",
              "      <td>debit</td>\n",
              "      <td>outlook.com</td>\n",
              "      <td>gmail.com</td>\n",
              "      <td>330.0</td>\n",
              "      <td>87.0</td>\n",
              "      <td>287.00000</td>\n",
              "      <td>231.855423</td>\n",
              "    </tr>\n",
              "    <tr>\n",
              "      <th>3</th>\n",
              "      <td>2987003</td>\n",
              "      <td>0</td>\n",
              "      <td>0.0</td>\n",
              "      <td>50.0</td>\n",
              "      <td>W</td>\n",
              "      <td>mastercard</td>\n",
              "      <td>debit</td>\n",
              "      <td>yahoo.com</td>\n",
              "      <td>gmail.com</td>\n",
              "      <td>476.0</td>\n",
              "      <td>87.0</td>\n",
              "      <td>118.50218</td>\n",
              "      <td>231.855423</td>\n",
              "    </tr>\n",
              "    <tr>\n",
              "      <th>4</th>\n",
              "      <td>2987004</td>\n",
              "      <td>0</td>\n",
              "      <td>0.0</td>\n",
              "      <td>50.0</td>\n",
              "      <td>H</td>\n",
              "      <td>mastercard</td>\n",
              "      <td>credit</td>\n",
              "      <td>gmail.com</td>\n",
              "      <td>gmail.com</td>\n",
              "      <td>420.0</td>\n",
              "      <td>87.0</td>\n",
              "      <td>118.50218</td>\n",
              "      <td>231.855423</td>\n",
              "    </tr>\n",
              "  </tbody>\n",
              "</table>\n",
              "</div>"
            ],
            "text/plain": [
              "   TransactionID  isFraud  TransactionDT  TransactionAmt ProductCD  \\\n",
              "0        2987000        0            0.0            68.5         W   \n",
              "1        2987001        0            0.0            29.0         W   \n",
              "2        2987002        0            0.0            59.0         W   \n",
              "3        2987003        0            0.0            50.0         W   \n",
              "4        2987004        0            0.0            50.0         H   \n",
              "\n",
              "        card4   card6 P_emaildomain R_emaildomain  addr1  addr2      dist1  \\\n",
              "0    discover  credit     gmail.com     gmail.com  315.0   87.0   19.00000   \n",
              "1  mastercard  credit     gmail.com     gmail.com  325.0   87.0  118.50218   \n",
              "2        visa   debit   outlook.com     gmail.com  330.0   87.0  287.00000   \n",
              "3  mastercard   debit     yahoo.com     gmail.com  476.0   87.0  118.50218   \n",
              "4  mastercard  credit     gmail.com     gmail.com  420.0   87.0  118.50218   \n",
              "\n",
              "        dist2  \n",
              "0  231.855423  \n",
              "1  231.855423  \n",
              "2  231.855423  \n",
              "3  231.855423  \n",
              "4  231.855423  "
            ]
          },
          "metadata": {
            "tags": []
          },
          "execution_count": 23
        }
      ]
    },
    {
      "cell_type": "code",
      "metadata": {
        "id": "Dsv9ILsc_gua",
        "colab_type": "code",
        "colab": {},
        "outputId": "93d1a117-b55d-4c68-a4f1-db0a715dc32f"
      },
      "source": [
        "df.plot(kind='hist',y='TransactionDT')"
      ],
      "execution_count": 0,
      "outputs": [
        {
          "output_type": "execute_result",
          "data": {
            "text/plain": [
              "<matplotlib.axes._subplots.AxesSubplot at 0x25ae95f84a8>"
            ]
          },
          "metadata": {
            "tags": []
          },
          "execution_count": 24
        },
        {
          "output_type": "display_data",
          "data": {
            "image/png": "[encoded data removed]",
            "text/plain": [
              "<Figure size 432x288 with 1 Axes>"
            ]
          },
          "metadata": {
            "tags": [],
            "needs_background": "light"
          }
        }
      ]
    },
    {
      "cell_type": "code",
      "metadata": {
        "id": "FemKcmR8_gub",
        "colab_type": "code",
        "colab": {},
        "outputId": "00ca10b5-893d-4e90-efb4-aed0d41256a1"
      },
      "source": [
        "cont1 = df[df['addr2']==87]\n",
        "cont1.plot(kind='hist',y='TransactionDT')"
      ],
      "execution_count": 0,
      "outputs": [
        {
          "output_type": "execute_result",
          "data": {
            "text/plain": [
              "<matplotlib.axes._subplots.AxesSubplot at 0x25ae98844a8>"
            ]
          },
          "metadata": {
            "tags": []
          },
          "execution_count": 25
        },
        {
          "output_type": "display_data",
          "data": {
            "image/png": "[encoded data removed]",
            "text/plain": [
              "<Figure size 432x288 with 1 Axes>"
            ]
          },
          "metadata": {
            "tags": [],
            "needs_background": "light"
          }
        }
      ]
    },
    {
      "cell_type": "markdown",
      "metadata": {
        "id": "ztSBSWhS_gud",
        "colab_type": "text"
      },
      "source": [
        "### *The most frequent country code is 87 and by assuming the refernce date as 2017-12-01 and converting the TransactionDT in hours we can see that the maximum transactions have occurred from the 0th hour to 2nd hour and 12th hour to 24th hour.Thus, we can conclude the waking hours of that country  are 12 pm to 2 am of the reference country.This assumption is based on the frequency of transactions."
      ]
    },
    {
      "cell_type": "markdown",
      "metadata": {
        "id": "Rjld16GF_gud",
        "colab_type": "text"
      },
      "source": [
        "## Part 3 - Product Code"
      ]
    },
    {
      "cell_type": "code",
      "metadata": {
        "id": "F2lzaXNj_gud",
        "colab_type": "code",
        "colab": {}
      },
      "source": [
        "# TODO: code to analyze prices for different product codes\n",
        "df1=df.groupby(['ProductCD'])\n",
        "df2=df.groupby(['ProductCD']).mean()"
      ],
      "execution_count": 0,
      "outputs": []
    },
    {
      "cell_type": "code",
      "metadata": {
        "id": "_VmMMFjo_gue",
        "colab_type": "code",
        "colab": {}
      },
      "source": [
        "df3=df.groupby(['ProductCD']).max()"
      ],
      "execution_count": 0,
      "outputs": []
    },
    {
      "cell_type": "code",
      "metadata": {
        "id": "JRdQtug2_gug",
        "colab_type": "code",
        "colab": {},
        "outputId": "c7bf76a8-e266-4205-a344-c2f195338814"
      },
      "source": [
        "df1.plot(kind=\"scatter\",x=\"TransactionID\",y=\"TransactionAmt\",c=\"teal\")"
      ],
      "execution_count": 0,
      "outputs": [
        {
          "output_type": "execute_result",
          "data": {
            "text/plain": [
              "ProductCD\n",
              "C    AxesSubplot(0.125,0.125;0.775x0.755)\n",
              "H    AxesSubplot(0.125,0.125;0.775x0.755)\n",
              "R    AxesSubplot(0.125,0.125;0.775x0.755)\n",
              "S    AxesSubplot(0.125,0.125;0.775x0.755)\n",
              "W    AxesSubplot(0.125,0.125;0.775x0.755)\n",
              "dtype: object"
            ]
          },
          "metadata": {
            "tags": []
          },
          "execution_count": 28
        },
        {
          "output_type": "display_data",
          "data": {
            "image/png": "[encoded data removed]",
            "text/plain": [
              "<Figure size 432x288 with 1 Axes>"
            ]
          },
          "metadata": {
            "tags": [],
            "needs_background": "light"
          }
        },
        {
          "output_type": "display_data",
          "data": {
            "image/png": "[encoded data removed]",
            "text/plain": [
              "<Figure size 432x288 with 1 Axes>"
            ]
          },
          "metadata": {
            "tags": [],
            "needs_background": "light"
          }
        },
        {
          "output_type": "display_data",
          "data": {
            "image/png": "[encoded data removed]",
            "text/plain": [
              "<Figure size 432x288 with 1 Axes>"
            ]
          },
          "metadata": {
            "tags": [],
            "needs_background": "light"
          }
        },
        {
          "output_type": "display_data",
          "data": {
            "image/png": "[encoded data removed]",
            "text/plain": [
              "<Figure size 432x288 with 1 Axes>"
            ]
          },
          "metadata": {
            "tags": [],
            "needs_background": "light"
          }
        },
        {
          "output_type": "display_data",
          "data": {
            "image/png": "[encoded data removed]",
            "text/plain": [
              "<Figure size 432x288 with 1 Axes>"
            ]
          },
          "metadata": {
            "tags": [],
            "needs_background": "light"
          }
        }
      ]
    },
    {
      "cell_type": "code",
      "metadata": {
        "id": "pbO8Ky0C_guh",
        "colab_type": "code",
        "colab": {},
        "outputId": "c98cd7cb-b2d4-43eb-dde4-a9d591e6b5b3"
      },
      "source": [
        "df['ProductCD'].value_counts()"
      ],
      "execution_count": 0,
      "outputs": [
        {
          "output_type": "execute_result",
          "data": {
            "text/plain": [
              "W    439670\n",
              "C     68519\n",
              "R     37699\n",
              "H     33024\n",
              "S     11628\n",
              "Name: ProductCD, dtype: int64"
            ]
          },
          "metadata": {
            "tags": []
          },
          "execution_count": 29
        }
      ]
    },
    {
      "cell_type": "code",
      "metadata": {
        "id": "qfVW5UNR_gui",
        "colab_type": "code",
        "colab": {},
        "outputId": "513d0d57-e7ab-4ed8-d6f2-93c27856af45"
      },
      "source": [
        "df4=df.groupby(['ProductCD']).min()\n",
        "df4.head()"
      ],
      "execution_count": 0,
      "outputs": [
        {
          "output_type": "execute_result",
          "data": {
            "text/html": [
              "<div>\n",
              "<style scoped>\n",
              "    .dataframe tbody tr th:only-of-type {\n",
              "        vertical-align: middle;\n",
              "    }\n",
              "\n",
              "    .dataframe tbody tr th {\n",
              "        vertical-align: top;\n",
              "    }\n",
              "\n",
              "    .dataframe thead th {\n",
              "        text-align: right;\n",
              "    }\n",
              "</style>\n",
              "<table border=\"1\" class=\"dataframe\">\n",
              "  <thead>\n",
              "    <tr style=\"text-align: right;\">\n",
              "      <th></th>\n",
              "      <th>TransactionID</th>\n",
              "      <th>isFraud</th>\n",
              "      <th>TransactionDT</th>\n",
              "      <th>TransactionAmt</th>\n",
              "      <th>card4</th>\n",
              "      <th>card6</th>\n",
              "      <th>P_emaildomain</th>\n",
              "      <th>R_emaildomain</th>\n",
              "      <th>addr1</th>\n",
              "      <th>addr2</th>\n",
              "      <th>dist1</th>\n",
              "      <th>dist2</th>\n",
              "    </tr>\n",
              "    <tr>\n",
              "      <th>ProductCD</th>\n",
              "      <th></th>\n",
              "      <th></th>\n",
              "      <th></th>\n",
              "      <th></th>\n",
              "      <th></th>\n",
              "      <th></th>\n",
              "      <th></th>\n",
              "      <th></th>\n",
              "      <th></th>\n",
              "      <th></th>\n",
              "      <th></th>\n",
              "      <th></th>\n",
              "    </tr>\n",
              "  </thead>\n",
              "  <tbody>\n",
              "    <tr>\n",
              "      <th>C</th>\n",
              "      <td>2987010</td>\n",
              "      <td>0</td>\n",
              "      <td>0.0</td>\n",
              "      <td>0.251</td>\n",
              "      <td>american express</td>\n",
              "      <td>charge card</td>\n",
              "      <td>aim.com</td>\n",
              "      <td>aim.com</td>\n",
              "      <td>100.0</td>\n",
              "      <td>13.00000</td>\n",
              "      <td>118.50218</td>\n",
              "      <td>0.000000</td>\n",
              "    </tr>\n",
              "    <tr>\n",
              "      <th>H</th>\n",
              "      <td>2987004</td>\n",
              "      <td>0</td>\n",
              "      <td>0.0</td>\n",
              "      <td>15.000</td>\n",
              "      <td>american express</td>\n",
              "      <td>credit</td>\n",
              "      <td>aim.com</td>\n",
              "      <td>aim.com</td>\n",
              "      <td>110.0</td>\n",
              "      <td>10.00000</td>\n",
              "      <td>118.50218</td>\n",
              "      <td>0.000000</td>\n",
              "    </tr>\n",
              "    <tr>\n",
              "      <th>R</th>\n",
              "      <td>2987099</td>\n",
              "      <td>0</td>\n",
              "      <td>0.0</td>\n",
              "      <td>25.000</td>\n",
              "      <td>american express</td>\n",
              "      <td>charge card</td>\n",
              "      <td>aim.com</td>\n",
              "      <td>aim.com</td>\n",
              "      <td>110.0</td>\n",
              "      <td>86.80063</td>\n",
              "      <td>118.50218</td>\n",
              "      <td>0.000000</td>\n",
              "    </tr>\n",
              "    <tr>\n",
              "      <th>S</th>\n",
              "      <td>2987038</td>\n",
              "      <td>0</td>\n",
              "      <td>0.0</td>\n",
              "      <td>5.000</td>\n",
              "      <td>american express</td>\n",
              "      <td>credit</td>\n",
              "      <td>gmail.com</td>\n",
              "      <td>aim.com</td>\n",
              "      <td>110.0</td>\n",
              "      <td>86.80063</td>\n",
              "      <td>118.50218</td>\n",
              "      <td>0.000000</td>\n",
              "    </tr>\n",
              "    <tr>\n",
              "      <th>W</th>\n",
              "      <td>2987000</td>\n",
              "      <td>0</td>\n",
              "      <td>0.0</td>\n",
              "      <td>1.000</td>\n",
              "      <td>discover</td>\n",
              "      <td>credit</td>\n",
              "      <td>aim.com</td>\n",
              "      <td>gmail.com</td>\n",
              "      <td>104.0</td>\n",
              "      <td>16.00000</td>\n",
              "      <td>0.00000</td>\n",
              "      <td>231.855423</td>\n",
              "    </tr>\n",
              "  </tbody>\n",
              "</table>\n",
              "</div>"
            ],
            "text/plain": [
              "           TransactionID  isFraud  TransactionDT  TransactionAmt  \\\n",
              "ProductCD                                                          \n",
              "C                2987010        0            0.0           0.251   \n",
              "H                2987004        0            0.0          15.000   \n",
              "R                2987099        0            0.0          25.000   \n",
              "S                2987038        0            0.0           5.000   \n",
              "W                2987000        0            0.0           1.000   \n",
              "\n",
              "                      card4        card6 P_emaildomain R_emaildomain  addr1  \\\n",
              "ProductCD                                                                     \n",
              "C          american express  charge card       aim.com       aim.com  100.0   \n",
              "H          american express       credit       aim.com       aim.com  110.0   \n",
              "R          american express  charge card       aim.com       aim.com  110.0   \n",
              "S          american express       credit     gmail.com       aim.com  110.0   \n",
              "W                  discover       credit       aim.com     gmail.com  104.0   \n",
              "\n",
              "              addr2      dist1       dist2  \n",
              "ProductCD                                   \n",
              "C          13.00000  118.50218    0.000000  \n",
              "H          10.00000  118.50218    0.000000  \n",
              "R          86.80063  118.50218    0.000000  \n",
              "S          86.80063  118.50218    0.000000  \n",
              "W          16.00000    0.00000  231.855423  "
            ]
          },
          "metadata": {
            "tags": []
          },
          "execution_count": 30
        }
      ]
    },
    {
      "cell_type": "markdown",
      "metadata": {
        "id": "Bb1XIt4b_guj",
        "colab_type": "text"
      },
      "source": [
        "### *We group by product code and plot the each group against TransactionAmt.Product code W belongs to the most expensive product while C belongs to the cheapest product.Finding mean results in showing R has highest average transaction amount.By plotting TransactionID VS TransactionAmt We can see that R has 37699 transactions out of which 37687 lie in the range of 0 to 1000 and the rest 12 lies between 1000 and 1800.Even though W has the transaction for the most expensive product(31,937.391),the mean is less since the no. of transactions that fall under this category are 439,670,out of which all except one lie in the 0 to 5000 range,thereby decreasing it's mean.C is the product code for cheapest product with a transaction amount of 0.251."
      ]
    },
    {
      "cell_type": "markdown",
      "metadata": {
        "id": "MO0fLRIi_guj",
        "colab_type": "text"
      },
      "source": [
        "## Part 4 - Correlation Coefficient"
      ]
    },
    {
      "cell_type": "code",
      "metadata": {
        "id": "PgJyX6Yl_guk",
        "colab_type": "code",
        "colab": {}
      },
      "source": [
        "# TODO: code to calculate correlation coefficient\n",
        "from time import time\n",
        "import datetime\n",
        "START_DATE = '2017-12-01'\n",
        "sdate = datetime.datetime.strptime(START_DATE, \"%Y-%m-%d\")\n",
        "de[\"Date\"] = de['TransactionDT'].apply(lambda x: (sdate + datetime.timedelta(seconds=x)))\n",
        "de['weekdays'] = de['Date'].dt.dayofweek\n",
        "de['hours'] = de['Date'].dt.hour\n",
        "de['days'] = de['Date'].dt.day\n",
        "\n"
      ],
      "execution_count": 0,
      "outputs": []
    },
    {
      "cell_type": "code",
      "metadata": {
        "id": "GR4jlSue_gul",
        "colab_type": "code",
        "colab": {}
      },
      "source": [
        "l =   list()\n",
        "for x in range(0,23,1):\n",
        "    df = de[de['hours']==x]\n",
        "    l.append(df['TransactionAmt'].sum())"
      ],
      "execution_count": 0,
      "outputs": []
    },
    {
      "cell_type": "code",
      "metadata": {
        "id": "8tB4OaOo_gum",
        "colab_type": "code",
        "colab": {}
      },
      "source": [
        "\n",
        "p=[0,1,2,3,4,5,6,7,8,9,10,11,12,13,14,15,16,17,18,19,20,21,22,23,24]\n",
        "de['sum'] = pd.DataFrame(l) \n",
        "de['hour'] = pd.DataFrame(p) "
      ],
      "execution_count": 0,
      "outputs": []
    },
    {
      "cell_type": "code",
      "metadata": {
        "id": "2nAo4ZOM_gun",
        "colab_type": "code",
        "colab": {},
        "outputId": "5fa33505-df0a-4e82-c087-51619e56b4ee"
      },
      "source": [
        "de.plot(kind=\"line\",x=\"hour\",y=\"sum\")"
      ],
      "execution_count": 0,
      "outputs": [
        {
          "output_type": "execute_result",
          "data": {
            "text/plain": [
              "<matplotlib.axes._subplots.AxesSubplot at 0x25ae965fcc0>"
            ]
          },
          "metadata": {
            "tags": []
          },
          "execution_count": 34
        },
        {
          "output_type": "display_data",
          "data": {
            "image/png": "[encoded data removed]",
            "text/plain": [
              "<Figure size 432x288 with 1 Axes>"
            ]
          },
          "metadata": {
            "tags": [],
            "needs_background": "light"
          }
        }
      ]
    },
    {
      "cell_type": "code",
      "metadata": {
        "id": "qvP9H7i__guo",
        "colab_type": "code",
        "colab": {},
        "outputId": "51cfebaf-38b6-4b29-d554-5e596d790c93"
      },
      "source": [
        "de=de[['hour','sum']]\n",
        "corr = de.corr()\n",
        "corr.style.background_gradient(cmap='coolwarm').set_precision(3)"
      ],
      "execution_count": 0,
      "outputs": [
        {
          "output_type": "execute_result",
          "data": {
            "text/html": [
              "<style  type=\"text/css\" >\n",
              "    #T_41bd8ec8_e04f_11e9_9732_48e2441ed26crow0_col0 {\n",
              "            background-color:  #b40426;\n",
              "            color:  #f1f1f1;\n",
              "        }    #T_41bd8ec8_e04f_11e9_9732_48e2441ed26crow0_col1 {\n",
              "            background-color:  #3b4cc0;\n",
              "            color:  #f1f1f1;\n",
              "        }    #T_41bd8ec8_e04f_11e9_9732_48e2441ed26crow1_col0 {\n",
              "            background-color:  #3b4cc0;\n",
              "            color:  #f1f1f1;\n",
              "        }    #T_41bd8ec8_e04f_11e9_9732_48e2441ed26crow1_col1 {\n",
              "            background-color:  #b40426;\n",
              "            color:  #f1f1f1;\n",
              "        }</style><table id=\"T_41bd8ec8_e04f_11e9_9732_48e2441ed26c\" ><thead>    <tr>        <th class=\"blank level0\" ></th>        <th class=\"col_heading level0 col0\" >hour</th>        <th class=\"col_heading level0 col1\" >sum</th>    </tr></thead><tbody>\n",
              "                <tr>\n",
              "                        <th id=\"T_41bd8ec8_e04f_11e9_9732_48e2441ed26clevel0_row0\" class=\"row_heading level0 row0\" >hour</th>\n",
              "                        <td id=\"T_41bd8ec8_e04f_11e9_9732_48e2441ed26crow0_col0\" class=\"data row0 col0\" >1</td>\n",
              "                        <td id=\"T_41bd8ec8_e04f_11e9_9732_48e2441ed26crow0_col1\" class=\"data row0 col1\" >0.629</td>\n",
              "            </tr>\n",
              "            <tr>\n",
              "                        <th id=\"T_41bd8ec8_e04f_11e9_9732_48e2441ed26clevel0_row1\" class=\"row_heading level0 row1\" >sum</th>\n",
              "                        <td id=\"T_41bd8ec8_e04f_11e9_9732_48e2441ed26crow1_col0\" class=\"data row1 col0\" >0.629</td>\n",
              "                        <td id=\"T_41bd8ec8_e04f_11e9_9732_48e2441ed26crow1_col1\" class=\"data row1 col1\" >1</td>\n",
              "            </tr>\n",
              "    </tbody></table>"
            ],
            "text/plain": [
              "<pandas.io.formats.style.Styler at 0x25aea5d16d8>"
            ]
          },
          "metadata": {
            "tags": []
          },
          "execution_count": 35
        }
      ]
    },
    {
      "cell_type": "code",
      "metadata": {
        "id": "cHSFxqok_guq",
        "colab_type": "code",
        "colab": {},
        "outputId": "90b19766-1e05-4bb2-ca4d-320076cb3b49"
      },
      "source": [
        "sns.heatmap(de.corr())"
      ],
      "execution_count": 0,
      "outputs": [
        {
          "output_type": "execute_result",
          "data": {
            "text/plain": [
              "<matplotlib.axes._subplots.AxesSubplot at 0x25aea68c518>"
            ]
          },
          "metadata": {
            "tags": []
          },
          "execution_count": 36
        },
        {
          "output_type": "display_data",
          "data": {
            "image/png": "[encoded data removed]",
            "text/plain": [
              "<Figure size 432x288 with 2 Axes>"
            ]
          },
          "metadata": {
            "tags": [],
            "needs_background": "light"
          }
        }
      ]
    },
    {
      "cell_type": "markdown",
      "metadata": {
        "id": "ZeJ1YbIm_gur",
        "colab_type": "text"
      },
      "source": [
        "### *The correlation coefficient between the time of day and the purchase amount is 0.629"
      ]
    },
    {
      "cell_type": "markdown",
      "metadata": {
        "id": "ncHeflFO_gus",
        "colab_type": "text"
      },
      "source": [
        "## Part 5 - Interesting Plot"
      ]
    },
    {
      "cell_type": "code",
      "metadata": {
        "id": "SKFCcjEy_gus",
        "colab_type": "code",
        "colab": {},
        "outputId": "aaa8868b-d139-45f2-99c6-76cfac8f19ba"
      },
      "source": [
        "de.head()"
      ],
      "execution_count": 0,
      "outputs": [
        {
          "output_type": "execute_result",
          "data": {
            "text/html": [
              "<div>\n",
              "<style scoped>\n",
              "    .dataframe tbody tr th:only-of-type {\n",
              "        vertical-align: middle;\n",
              "    }\n",
              "\n",
              "    .dataframe tbody tr th {\n",
              "        vertical-align: top;\n",
              "    }\n",
              "\n",
              "    .dataframe thead th {\n",
              "        text-align: right;\n",
              "    }\n",
              "</style>\n",
              "<table border=\"1\" class=\"dataframe\">\n",
              "  <thead>\n",
              "    <tr style=\"text-align: right;\">\n",
              "      <th></th>\n",
              "      <th>hour</th>\n",
              "      <th>sum</th>\n",
              "    </tr>\n",
              "  </thead>\n",
              "  <tbody>\n",
              "    <tr>\n",
              "      <th>0</th>\n",
              "      <td>0.0</td>\n",
              "      <td>4660496.261</td>\n",
              "    </tr>\n",
              "    <tr>\n",
              "      <th>1</th>\n",
              "      <td>1.0</td>\n",
              "      <td>3805384.966</td>\n",
              "    </tr>\n",
              "    <tr>\n",
              "      <th>2</th>\n",
              "      <td>2.0</td>\n",
              "      <td>2976132.281</td>\n",
              "    </tr>\n",
              "    <tr>\n",
              "      <th>3</th>\n",
              "      <td>3.0</td>\n",
              "      <td>2217529.208</td>\n",
              "    </tr>\n",
              "    <tr>\n",
              "      <th>4</th>\n",
              "      <td>4.0</td>\n",
              "      <td>1527838.580</td>\n",
              "    </tr>\n",
              "  </tbody>\n",
              "</table>\n",
              "</div>"
            ],
            "text/plain": [
              "   hour          sum\n",
              "0   0.0  4660496.261\n",
              "1   1.0  3805384.966\n",
              "2   2.0  2976132.281\n",
              "3   3.0  2217529.208\n",
              "4   4.0  1527838.580"
            ]
          },
          "metadata": {
            "tags": []
          },
          "execution_count": 38
        }
      ]
    },
    {
      "cell_type": "code",
      "metadata": {
        "id": "Y43-1ADr_gut",
        "colab_type": "code",
        "colab": {}
      },
      "source": [
        "# TODO: code to generate the plot here.\n",
        "from time import time\n",
        "import datetime\n",
        "START_DATE = '2017-12-01'\n",
        "sdate = datetime.datetime.strptime(START_DATE, \"%Y-%m-%d\")\n",
        "de[\"Date\"] = df['TransactionDT'].apply(lambda x: (sdate + datetime.timedelta(seconds=x)))\n",
        "de['month'] = pd.DatetimeIndex(de['Date']).month\n",
        "de[\"TransactionAmt\"]=df[\"TransactionAmt\"]"
      ],
      "execution_count": 0,
      "outputs": []
    },
    {
      "cell_type": "code",
      "metadata": {
        "id": "RrVPLxPM_guv",
        "colab_type": "code",
        "colab": {},
        "outputId": "ac28dcd9-3b3d-4a0e-8b07-ae905358fee6"
      },
      "source": [
        "de.plot(kind=\"scatter\",x=\"month\",y=\"TransactionAmt\")"
      ],
      "execution_count": 0,
      "outputs": [
        {
          "output_type": "execute_result",
          "data": {
            "text/plain": [
              "<matplotlib.axes._subplots.AxesSubplot at 0x25ae9632a20>"
            ]
          },
          "metadata": {
            "tags": []
          },
          "execution_count": 42
        },
        {
          "output_type": "display_data",
          "data": {
            "image/png": "[encoded data removed]",
            "text/plain": [
              "<Figure size 432x288 with 1 Axes>"
            ]
          },
          "metadata": {
            "tags": [],
            "needs_background": "light"
          }
        }
      ]
    },
    {
      "cell_type": "markdown",
      "metadata": {
        "id": "8esaKO5G_guw",
        "colab_type": "text"
      },
      "source": [
        "### * The interesting finding is that there are no transactions in the months,july to november.And there are no fraudulent transactions in the month of december."
      ]
    },
    {
      "cell_type": "markdown",
      "metadata": {
        "id": "D2RWzb25_guw",
        "colab_type": "text"
      },
      "source": [
        "## Part 6 - Prediction Model"
      ]
    },
    {
      "cell_type": "code",
      "metadata": {
        "id": "D2fqxIkS_guw",
        "colab_type": "code",
        "colab": {}
      },
      "source": [
        "from sklearn.preprocessing import LabelEncoder\n",
        "obj1=LabelEncoder()\n",
        "obj2=LabelEncoder()"
      ],
      "execution_count": 0,
      "outputs": []
    },
    {
      "cell_type": "code",
      "metadata": {
        "id": "Cv9C0c8G_gux",
        "colab_type": "code",
        "colab": {}
      },
      "source": [
        "# TODO: code for your final model\n",
        "\n",
        "abc=pd.read_csv(\"D:\\\\Anaconda\\\\train_transaction.csv\")\n",
        "abc=abc[['TransactionID','isFraud','TransactionDT','TransactionAmt','ProductCD','card4','card6','P_emaildomain','R_emaildomain','addr1','addr2','dist1','dist2','M1','M2','M3','M4','M5','M6','M7','M8','M9']]\n",
        "id2=pd.read_csv(\"D:\\\\Anaconda\\\\train_identity.csv\")\n",
        "cols_keep=['TransactionID','DeviceType','DeviceInfo','id_12','id_13','id_14','id_15','id_16','id_17','id_18','id_19','id_20','id_21','id_22','id_23','id_24','id_25','id_26','id_27','id_28','id_29','id_30','id_31','id_32','id_33','id_34','id_35','id_36','id_37','id_38']\n",
        "id2= id2[cols_keep]\n",
        "\n"
      ],
      "execution_count": 0,
      "outputs": []
    },
    {
      "cell_type": "code",
      "metadata": {
        "id": "mEz9E3gI_guy",
        "colab_type": "code",
        "colab": {}
      },
      "source": [
        "o1=abc['P_emaildomain'].value_counts().idxmax()\n",
        "abc['P_emaildomain']=abc['P_emaildomain'].replace(np.nan,o1)\n",
        "o2=abc['R_emaildomain'].value_counts().idxmax()\n",
        "abc['R_emaildomain']=abc['R_emaildomain'].replace(np.nan,o2)\n",
        "o3=abc['card4'].value_counts().idxmax()\n",
        "abc['card4']=abc['card4'].replace(np.nan,o3)\n",
        "o4=abc['card6'].value_counts().idxmax()\n",
        "abc['card6']=abc['card6'].replace(np.nan,o4)\n",
        "o5=abc['dist1'].mean()\n",
        "abc['dist1']=abc['dist1'].replace(np.nan,o5)\n",
        "o6=abc['dist2'].mean()\n",
        "abc['dist2']=abc['dist2'].replace(np.nan,o6)\n",
        "o7=abc['addr1'].mean()\n",
        "abc['addr1']=abc['addr1'].replace(np.nan,o7)\n",
        "o8=abc['addr2'].mean()\n",
        "abc['addr2']=abc['addr2'].replace(np.nan,o8)\n",
        "o9=abc['M1'].value_counts().idxmax()\n",
        "abc['M1']=abc['M1'].replace(np.nan,o9)\n",
        "o10=abc['M2'].value_counts().idxmax()\n",
        "abc['M2']=abc['M2'].replace(np.nan,o10)\n",
        "o11=abc['M3'].value_counts().idxmax()\n",
        "abc['M3']=abc['M3'].replace(np.nan,o11)\n",
        "o12=abc['M4'].value_counts().idxmax()\n",
        "abc['M4']=abc['M4'].replace(np.nan,o12)\n",
        "o13=abc['M5'].value_counts().idxmax()\n",
        "abc['M5']=abc['M5'].replace(np.nan,o13)\n",
        "o14=abc['M6'].value_counts().idxmax()\n",
        "abc['M6']=abc['M6'].replace(np.nan,o14)\n",
        "o15=abc['M7'].value_counts().idxmax()\n",
        "abc['M7']=abc['M7'].replace(np.nan,o15)\n",
        "o16=abc['M8'].value_counts().idxmax()\n",
        "abc['M8']=abc['M8'].replace(np.nan,o16)\n",
        "o17=abc['M9'].value_counts().idxmax()\n",
        "abc['M9']=abc['M9'].replace(np.nan,o17)"
      ],
      "execution_count": 0,
      "outputs": []
    },
    {
      "cell_type": "code",
      "metadata": {
        "id": "D188CEe5_guz",
        "colab_type": "code",
        "colab": {},
        "outputId": "654fb09e-9f3d-4d14-af55-966fd9005918"
      },
      "source": [
        "df_qw=abc.drop(abc.query('isFraud==0').sample(frac=0.80).index)\n",
        "df_qw['P_emaildomain1']=obj1.fit_transform(df_qw['P_emaildomain'])\n",
        "df_qw['R_emaildomain1']=obj1.fit_transform(df_qw['R_emaildomain'])\n",
        "df_qw['M11']=obj1.fit_transform(df_qw['M1'])\n",
        "df_qw['M22']=obj1.fit_transform(df_qw['M2'])\n",
        "df_qw['M33']=obj1.fit_transform(df_qw['M3'])\n",
        "df_qw['M44']=obj1.fit_transform(df_qw['M4'])\n",
        "df_qw['M55']=obj1.fit_transform(df_qw['M5'])\n",
        "df_qw['M66']=obj1.fit_transform(df_qw['M6'])\n",
        "df_qw['M77']=obj1.fit_transform(df_qw['M7'])\n",
        "df_qw['M88']=obj1.fit_transform(df_qw['M8'])\n",
        "df_qw['M99']=obj1.fit_transform(df_qw['M9'])\n",
        "df_qw['card41']=obj1.fit_transform(df_qw['card4'])\n",
        "df_qw['card61']=obj1.fit_transform(df_qw['card6'])\n",
        "final=pd.merge(df_qw,id2,on='TransactionID',how='left')\n",
        "final.head()"
      ],
      "execution_count": 0,
      "outputs": [
        {
          "output_type": "execute_result",
          "data": {
            "text/html": [
              "<div>\n",
              "<style scoped>\n",
              "    .dataframe tbody tr th:only-of-type {\n",
              "        vertical-align: middle;\n",
              "    }\n",
              "\n",
              "    .dataframe tbody tr th {\n",
              "        vertical-align: top;\n",
              "    }\n",
              "\n",
              "    .dataframe thead th {\n",
              "        text-align: right;\n",
              "    }\n",
              "</style>\n",
              "<table border=\"1\" class=\"dataframe\">\n",
              "  <thead>\n",
              "    <tr style=\"text-align: right;\">\n",
              "      <th></th>\n",
              "      <th>TransactionID</th>\n",
              "      <th>isFraud</th>\n",
              "      <th>TransactionDT</th>\n",
              "      <th>TransactionAmt</th>\n",
              "      <th>ProductCD</th>\n",
              "      <th>card4</th>\n",
              "      <th>card6</th>\n",
              "      <th>P_emaildomain</th>\n",
              "      <th>R_emaildomain</th>\n",
              "      <th>addr1</th>\n",
              "      <th>...</th>\n",
              "      <th>id_29</th>\n",
              "      <th>id_30</th>\n",
              "      <th>id_31</th>\n",
              "      <th>id_32</th>\n",
              "      <th>id_33</th>\n",
              "      <th>id_34</th>\n",
              "      <th>id_35</th>\n",
              "      <th>id_36</th>\n",
              "      <th>id_37</th>\n",
              "      <th>id_38</th>\n",
              "    </tr>\n",
              "  </thead>\n",
              "  <tbody>\n",
              "    <tr>\n",
              "      <th>0</th>\n",
              "      <td>2987000</td>\n",
              "      <td>0</td>\n",
              "      <td>86400</td>\n",
              "      <td>68.50</td>\n",
              "      <td>W</td>\n",
              "      <td>discover</td>\n",
              "      <td>credit</td>\n",
              "      <td>gmail.com</td>\n",
              "      <td>gmail.com</td>\n",
              "      <td>315.0</td>\n",
              "      <td>...</td>\n",
              "      <td>NaN</td>\n",
              "      <td>NaN</td>\n",
              "      <td>NaN</td>\n",
              "      <td>NaN</td>\n",
              "      <td>NaN</td>\n",
              "      <td>NaN</td>\n",
              "      <td>NaN</td>\n",
              "      <td>NaN</td>\n",
              "      <td>NaN</td>\n",
              "      <td>NaN</td>\n",
              "    </tr>\n",
              "    <tr>\n",
              "      <th>1</th>\n",
              "      <td>2987008</td>\n",
              "      <td>0</td>\n",
              "      <td>86535</td>\n",
              "      <td>15.00</td>\n",
              "      <td>H</td>\n",
              "      <td>visa</td>\n",
              "      <td>debit</td>\n",
              "      <td>anonymous.com</td>\n",
              "      <td>gmail.com</td>\n",
              "      <td>337.0</td>\n",
              "      <td>...</td>\n",
              "      <td>NotFound</td>\n",
              "      <td>iOS 11.1.2</td>\n",
              "      <td>mobile safari 11.0</td>\n",
              "      <td>32.0</td>\n",
              "      <td>1334x750</td>\n",
              "      <td>match_status:1</td>\n",
              "      <td>T</td>\n",
              "      <td>F</td>\n",
              "      <td>F</td>\n",
              "      <td>T</td>\n",
              "    </tr>\n",
              "    <tr>\n",
              "      <th>2</th>\n",
              "      <td>2987013</td>\n",
              "      <td>0</td>\n",
              "      <td>86585</td>\n",
              "      <td>40.00</td>\n",
              "      <td>W</td>\n",
              "      <td>visa</td>\n",
              "      <td>debit</td>\n",
              "      <td>aol.com</td>\n",
              "      <td>gmail.com</td>\n",
              "      <td>330.0</td>\n",
              "      <td>...</td>\n",
              "      <td>NaN</td>\n",
              "      <td>NaN</td>\n",
              "      <td>NaN</td>\n",
              "      <td>NaN</td>\n",
              "      <td>NaN</td>\n",
              "      <td>NaN</td>\n",
              "      <td>NaN</td>\n",
              "      <td>NaN</td>\n",
              "      <td>NaN</td>\n",
              "      <td>NaN</td>\n",
              "    </tr>\n",
              "    <tr>\n",
              "      <th>3</th>\n",
              "      <td>2987022</td>\n",
              "      <td>0</td>\n",
              "      <td>86786</td>\n",
              "      <td>50.00</td>\n",
              "      <td>H</td>\n",
              "      <td>visa</td>\n",
              "      <td>credit</td>\n",
              "      <td>gmail.com</td>\n",
              "      <td>gmail.com</td>\n",
              "      <td>299.0</td>\n",
              "      <td>...</td>\n",
              "      <td>NaN</td>\n",
              "      <td>NaN</td>\n",
              "      <td>NaN</td>\n",
              "      <td>NaN</td>\n",
              "      <td>NaN</td>\n",
              "      <td>NaN</td>\n",
              "      <td>NaN</td>\n",
              "      <td>NaN</td>\n",
              "      <td>NaN</td>\n",
              "      <td>NaN</td>\n",
              "    </tr>\n",
              "    <tr>\n",
              "      <th>4</th>\n",
              "      <td>2987025</td>\n",
              "      <td>0</td>\n",
              "      <td>86944</td>\n",
              "      <td>107.95</td>\n",
              "      <td>W</td>\n",
              "      <td>mastercard</td>\n",
              "      <td>debit</td>\n",
              "      <td>gmail.com</td>\n",
              "      <td>gmail.com</td>\n",
              "      <td>441.0</td>\n",
              "      <td>...</td>\n",
              "      <td>NaN</td>\n",
              "      <td>NaN</td>\n",
              "      <td>NaN</td>\n",
              "      <td>NaN</td>\n",
              "      <td>NaN</td>\n",
              "      <td>NaN</td>\n",
              "      <td>NaN</td>\n",
              "      <td>NaN</td>\n",
              "      <td>NaN</td>\n",
              "      <td>NaN</td>\n",
              "    </tr>\n",
              "  </tbody>\n",
              "</table>\n",
              "<p>5 rows × 64 columns</p>\n",
              "</div>"
            ],
            "text/plain": [
              "   TransactionID  isFraud  TransactionDT  TransactionAmt ProductCD  \\\n",
              "0        2987000        0          86400           68.50         W   \n",
              "1        2987008        0          86535           15.00         H   \n",
              "2        2987013        0          86585           40.00         W   \n",
              "3        2987022        0          86786           50.00         H   \n",
              "4        2987025        0          86944          107.95         W   \n",
              "\n",
              "        card4   card6  P_emaildomain R_emaildomain  addr1  ...     id_29  \\\n",
              "0    discover  credit      gmail.com     gmail.com  315.0  ...       NaN   \n",
              "1        visa   debit  anonymous.com     gmail.com  337.0  ...  NotFound   \n",
              "2        visa   debit        aol.com     gmail.com  330.0  ...       NaN   \n",
              "3        visa  credit      gmail.com     gmail.com  299.0  ...       NaN   \n",
              "4  mastercard   debit      gmail.com     gmail.com  441.0  ...       NaN   \n",
              "\n",
              "        id_30               id_31 id_32     id_33           id_34 id_35 id_36  \\\n",
              "0         NaN                 NaN   NaN       NaN             NaN   NaN   NaN   \n",
              "1  iOS 11.1.2  mobile safari 11.0  32.0  1334x750  match_status:1     T     F   \n",
              "2         NaN                 NaN   NaN       NaN             NaN   NaN   NaN   \n",
              "3         NaN                 NaN   NaN       NaN             NaN   NaN   NaN   \n",
              "4         NaN                 NaN   NaN       NaN             NaN   NaN   NaN   \n",
              "\n",
              "  id_37 id_38  \n",
              "0   NaN   NaN  \n",
              "1     F     T  \n",
              "2   NaN   NaN  \n",
              "3   NaN   NaN  \n",
              "4   NaN   NaN  \n",
              "\n",
              "[5 rows x 64 columns]"
            ]
          },
          "metadata": {
            "tags": []
          },
          "execution_count": 47
        }
      ]
    },
    {
      "cell_type": "code",
      "metadata": {
        "id": "6-T0qACy_gu0",
        "colab_type": "code",
        "colab": {}
      },
      "source": [
        "id_121=final['id_12'].value_counts().idxmax()\n",
        "final['id_12']=final['id_12'].replace(np.nan,id_121)\n",
        "id_171=final['id_17'].value_counts().idxmax()\n",
        "final['id_17']=final['id_17'].replace(np.nan,id_171)\n",
        "id_191=final['id_19'].value_counts().idxmax()\n",
        "final['id_19']=final['id_19'].replace(np.nan,id_191)\n",
        "devinfo=final['DeviceInfo'].value_counts().idxmax()\n",
        "final['DeviceInfo']=final['DeviceInfo'].replace(np.nan,devinfo)\n",
        "devtype=final['DeviceType'].value_counts().idxmax()\n",
        "final['DeviceType']=final['DeviceType'].replace(np.nan,devtype)\n",
        "final['devtype']=obj1.fit_transform(final['DeviceType'])\n",
        "final['devinfo']=obj1.fit_transform(final['DeviceInfo'])\n",
        "final['Productcd']=obj1.fit_transform(final['ProductCD'])\n",
        "final['id12']=obj1.fit_transform(final['id_12'])"
      ],
      "execution_count": 0,
      "outputs": []
    },
    {
      "cell_type": "code",
      "metadata": {
        "id": "HQGPic2F_gu1",
        "colab_type": "code",
        "colab": {}
      },
      "source": [
        "test=pd.read_csv(\"D:\\\\Anaconda\\\\test_transaction.csv\")\n",
        "test1=pd.read_csv(\"D:\\\\Anaconda\\\\test_identity.csv\")\n",
        "test1=test1[['DeviceType','DeviceInfo','TransactionID','id_12','id_17','id_19','id_20']]\n",
        "test=test[['TransactionID','TransactionDT','TransactionAmt','ProductCD','card4','card6','P_emaildomain','R_emaildomain','addr1','addr2','dist1','dist2','M1','M2','M3','M4','M5','M6','M7','M8','M9']]"
      ],
      "execution_count": 0,
      "outputs": []
    },
    {
      "cell_type": "code",
      "metadata": {
        "id": "46nVXI8b_gu2",
        "colab_type": "code",
        "colab": {}
      },
      "source": [
        "o18=final['M6'].value_counts().idxmax()\n",
        "test['M6']=test['M6'].replace(np.nan,o18)\n",
        "o19=final['M7'].value_counts().idxmax()\n",
        "test['M7']=test['M7'].replace(np.nan,o19)\n",
        "o20=final['M8'].value_counts().idxmax()\n",
        "test['M8']=test['M8'].replace(np.nan,o20)\n",
        "o21=final['M9'].value_counts().idxmax()\n",
        "test['M9']=test['M9'].replace(np.nan,o21)\n",
        "test['M66']=obj1.fit_transform(test['M6'])\n",
        "test['M77']=obj1.fit_transform(test['M7'])\n",
        "test['M88']=obj1.fit_transform(test['M8'])\n",
        "test['M99']=obj1.fit_transform(test['M9'])\n",
        "distavg2=final['dist1'].mean()\n",
        "test['dist1']=test['dist1'].replace(np.nan,distavg2)\n",
        "id97=final['id_19'].mean()\n",
        "test1['id_19']=test1['id_19'].replace(np.nan,id97)\n",
        "id77=final['id_17'].mean()\n",
        "test1['id_17']=test1['id_17'].replace(np.nan,id77)\n",
        "distavg3=final['dist2'].median()\n",
        "test['dist2']=test['dist2'].replace(np.nan,distavg3)\n",
        "addd=final['addr1'].median()\n",
        "test['addr1']=test['addr1'].replace(np.nan,addd)\n",
        "asd=final['addr2'].median()\n",
        "test['addr2']=test['addr2'].replace(np.nan,asd)\n",
        "email2=final['R_emaildomain'].value_counts().idxmax()\n",
        "test['R_emaildomain']=test['R_emaildomain'].replace(np.nan,email2)\n",
        "email3=final['P_emaildomain'].value_counts().idxmax()\n",
        "test['P_emaildomain']=test['P_emaildomain'].replace(np.nan,email3)\n",
        "card56=final['card4'].value_counts().idxmax()\n",
        "test['card4']=test['card4'].replace(np.nan,card56)\n",
        "card66=final['card6'].value_counts().idxmax()\n",
        "test['card6']=test['card6'].replace(np.nan,card66)\n",
        "test['P_emaildomain1']=obj2.fit_transform(test['P_emaildomain'])\n",
        "test['R_emaildomain1']=obj2.fit_transform(test['R_emaildomain'])\n",
        "test['card41']=obj2.fit_transform(test['card4'])\n",
        "test['card61']=obj2.fit_transform(test['card6'])\n",
        "test['Productcd']=obj2.fit_transform(test['ProductCD'])"
      ],
      "execution_count": 0,
      "outputs": []
    },
    {
      "cell_type": "code",
      "metadata": {
        "id": "iaFw7Nm4_gu3",
        "colab_type": "code",
        "colab": {},
        "outputId": "bd5e0a83-3c29-42a1-d8c0-3d2c585a97b6"
      },
      "source": [
        "testf=pd.merge(test,test1,on='TransactionID',how='left')\n",
        "testf.head()"
      ],
      "execution_count": 0,
      "outputs": [
        {
          "output_type": "execute_result",
          "data": {
            "text/html": [
              "<div>\n",
              "<style scoped>\n",
              "    .dataframe tbody tr th:only-of-type {\n",
              "        vertical-align: middle;\n",
              "    }\n",
              "\n",
              "    .dataframe tbody tr th {\n",
              "        vertical-align: top;\n",
              "    }\n",
              "\n",
              "    .dataframe thead th {\n",
              "        text-align: right;\n",
              "    }\n",
              "</style>\n",
              "<table border=\"1\" class=\"dataframe\">\n",
              "  <thead>\n",
              "    <tr style=\"text-align: right;\">\n",
              "      <th></th>\n",
              "      <th>TransactionID</th>\n",
              "      <th>TransactionDT</th>\n",
              "      <th>TransactionAmt</th>\n",
              "      <th>ProductCD</th>\n",
              "      <th>card4</th>\n",
              "      <th>card6</th>\n",
              "      <th>P_emaildomain</th>\n",
              "      <th>R_emaildomain</th>\n",
              "      <th>addr1</th>\n",
              "      <th>addr2</th>\n",
              "      <th>...</th>\n",
              "      <th>R_emaildomain1</th>\n",
              "      <th>card41</th>\n",
              "      <th>card61</th>\n",
              "      <th>Productcd</th>\n",
              "      <th>DeviceType</th>\n",
              "      <th>DeviceInfo</th>\n",
              "      <th>id_12</th>\n",
              "      <th>id_17</th>\n",
              "      <th>id_19</th>\n",
              "      <th>id_20</th>\n",
              "    </tr>\n",
              "  </thead>\n",
              "  <tbody>\n",
              "    <tr>\n",
              "      <th>0</th>\n",
              "      <td>3663549</td>\n",
              "      <td>18403224</td>\n",
              "      <td>31.95</td>\n",
              "      <td>W</td>\n",
              "      <td>visa</td>\n",
              "      <td>debit</td>\n",
              "      <td>gmail.com</td>\n",
              "      <td>gmail.com</td>\n",
              "      <td>170.0</td>\n",
              "      <td>87.0</td>\n",
              "      <td>...</td>\n",
              "      <td>16</td>\n",
              "      <td>3</td>\n",
              "      <td>2</td>\n",
              "      <td>4</td>\n",
              "      <td>NaN</td>\n",
              "      <td>NaN</td>\n",
              "      <td>NaN</td>\n",
              "      <td>NaN</td>\n",
              "      <td>NaN</td>\n",
              "      <td>NaN</td>\n",
              "    </tr>\n",
              "    <tr>\n",
              "      <th>1</th>\n",
              "      <td>3663550</td>\n",
              "      <td>18403263</td>\n",
              "      <td>49.00</td>\n",
              "      <td>W</td>\n",
              "      <td>visa</td>\n",
              "      <td>debit</td>\n",
              "      <td>aol.com</td>\n",
              "      <td>gmail.com</td>\n",
              "      <td>299.0</td>\n",
              "      <td>87.0</td>\n",
              "      <td>...</td>\n",
              "      <td>16</td>\n",
              "      <td>3</td>\n",
              "      <td>2</td>\n",
              "      <td>4</td>\n",
              "      <td>NaN</td>\n",
              "      <td>NaN</td>\n",
              "      <td>NaN</td>\n",
              "      <td>NaN</td>\n",
              "      <td>NaN</td>\n",
              "      <td>NaN</td>\n",
              "    </tr>\n",
              "    <tr>\n",
              "      <th>2</th>\n",
              "      <td>3663551</td>\n",
              "      <td>18403310</td>\n",
              "      <td>171.00</td>\n",
              "      <td>W</td>\n",
              "      <td>visa</td>\n",
              "      <td>debit</td>\n",
              "      <td>hotmail.com</td>\n",
              "      <td>gmail.com</td>\n",
              "      <td>472.0</td>\n",
              "      <td>87.0</td>\n",
              "      <td>...</td>\n",
              "      <td>16</td>\n",
              "      <td>3</td>\n",
              "      <td>2</td>\n",
              "      <td>4</td>\n",
              "      <td>NaN</td>\n",
              "      <td>NaN</td>\n",
              "      <td>NaN</td>\n",
              "      <td>NaN</td>\n",
              "      <td>NaN</td>\n",
              "      <td>NaN</td>\n",
              "    </tr>\n",
              "    <tr>\n",
              "      <th>3</th>\n",
              "      <td>3663552</td>\n",
              "      <td>18403310</td>\n",
              "      <td>284.95</td>\n",
              "      <td>W</td>\n",
              "      <td>visa</td>\n",
              "      <td>debit</td>\n",
              "      <td>gmail.com</td>\n",
              "      <td>gmail.com</td>\n",
              "      <td>205.0</td>\n",
              "      <td>87.0</td>\n",
              "      <td>...</td>\n",
              "      <td>16</td>\n",
              "      <td>3</td>\n",
              "      <td>2</td>\n",
              "      <td>4</td>\n",
              "      <td>NaN</td>\n",
              "      <td>NaN</td>\n",
              "      <td>NaN</td>\n",
              "      <td>NaN</td>\n",
              "      <td>NaN</td>\n",
              "      <td>NaN</td>\n",
              "    </tr>\n",
              "    <tr>\n",
              "      <th>4</th>\n",
              "      <td>3663553</td>\n",
              "      <td>18403317</td>\n",
              "      <td>67.95</td>\n",
              "      <td>W</td>\n",
              "      <td>mastercard</td>\n",
              "      <td>debit</td>\n",
              "      <td>gmail.com</td>\n",
              "      <td>gmail.com</td>\n",
              "      <td>264.0</td>\n",
              "      <td>87.0</td>\n",
              "      <td>...</td>\n",
              "      <td>16</td>\n",
              "      <td>2</td>\n",
              "      <td>2</td>\n",
              "      <td>4</td>\n",
              "      <td>NaN</td>\n",
              "      <td>NaN</td>\n",
              "      <td>NaN</td>\n",
              "      <td>NaN</td>\n",
              "      <td>NaN</td>\n",
              "      <td>NaN</td>\n",
              "    </tr>\n",
              "  </tbody>\n",
              "</table>\n",
              "<p>5 rows × 36 columns</p>\n",
              "</div>"
            ],
            "text/plain": [
              "   TransactionID  TransactionDT  TransactionAmt ProductCD       card4  card6  \\\n",
              "0        3663549       18403224           31.95         W        visa  debit   \n",
              "1        3663550       18403263           49.00         W        visa  debit   \n",
              "2        3663551       18403310          171.00         W        visa  debit   \n",
              "3        3663552       18403310          284.95         W        visa  debit   \n",
              "4        3663553       18403317           67.95         W  mastercard  debit   \n",
              "\n",
              "  P_emaildomain R_emaildomain  addr1  addr2  ...  R_emaildomain1  card41  \\\n",
              "0     gmail.com     gmail.com  170.0   87.0  ...              16       3   \n",
              "1       aol.com     gmail.com  299.0   87.0  ...              16       3   \n",
              "2   hotmail.com     gmail.com  472.0   87.0  ...              16       3   \n",
              "3     gmail.com     gmail.com  205.0   87.0  ...              16       3   \n",
              "4     gmail.com     gmail.com  264.0   87.0  ...              16       2   \n",
              "\n",
              "  card61 Productcd DeviceType DeviceInfo id_12 id_17 id_19 id_20  \n",
              "0      2         4        NaN        NaN   NaN   NaN   NaN   NaN  \n",
              "1      2         4        NaN        NaN   NaN   NaN   NaN   NaN  \n",
              "2      2         4        NaN        NaN   NaN   NaN   NaN   NaN  \n",
              "3      2         4        NaN        NaN   NaN   NaN   NaN   NaN  \n",
              "4      2         4        NaN        NaN   NaN   NaN   NaN   NaN  \n",
              "\n",
              "[5 rows x 36 columns]"
            ]
          },
          "metadata": {
            "tags": []
          },
          "execution_count": 52
        }
      ]
    },
    {
      "cell_type": "code",
      "metadata": {
        "id": "d2bPuY5c_gu4",
        "colab_type": "code",
        "colab": {}
      },
      "source": [
        "\n",
        "dev1=final['DeviceType'].value_counts().idxmax()\n",
        "testf['DeviceType']=testf['DeviceType'].replace(np.nan,dev1)\n",
        "dev2=final['DeviceInfo'].value_counts().idxmax()\n",
        "testf['DeviceInfo']=testf['DeviceInfo'].replace(np.nan,dev2)\n",
        "id_121=final['id_12'].value_counts().idxmax()\n",
        "testf['id_12']=testf['id_12'].replace(np.nan,id_121)\n",
        "id25=final['id_25'].value_counts().idxmax()\n",
        "final['id_25']=final['id_25'].replace(np.nan,id25)\n",
        "id26=final['id_26'].value_counts().idxmax()\n",
        "final['id_26']=final['id_26'].replace(np.nan,id26)\n",
        "id32=final['id_32'].value_counts().idxmax()\n",
        "final['id_32']=final['id_32'].replace(np.nan,id32)\n",
        "id17=final['id_17'].value_counts().idxmax()\n",
        "testf['id_17']=testf['id_17'].replace(np.nan,id17)\n",
        "id19=final['id_19'].value_counts().idxmax()\n",
        "testf['id_19']=testf['id_19'].replace(np.nan,id19)\n",
        "testf['devtype']=obj2.fit_transform(testf['DeviceType'])\n",
        "testf['devinfo']=obj2.fit_transform(testf['DeviceInfo'])\n",
        "testf['id12']=obj2.fit_transform(testf['id_12'])\n",
        "testf['id17']=obj2.fit_transform(testf['id_17'])\n",
        "testf['id19']=obj2.fit_transform(testf['id_19'])\n",
        "final['id17']=obj2.fit_transform(final['id_17'])\n",
        "final['id19']=obj2.fit_transform(final['id_19'])"
      ],
      "execution_count": 0,
      "outputs": []
    },
    {
      "cell_type": "code",
      "metadata": {
        "id": "7i16FwPC_gu5",
        "colab_type": "code",
        "colab": {}
      },
      "source": [
        "import numpy as np\n",
        "import pandas as pd\n",
        "from sklearn.model_selection import train_test_split\n",
        "from sklearn.tree import DecisionTreeClassifier\n",
        "from sklearn.metrics import accuracy_score\n",
        "from sklearn import tree\n",
        "from sklearn.ensemble import RandomForestClassifier \n",
        "from sklearn.datasets import make_classification\n",
        "\n",
        "\n",
        "X = final[['TransactionAmt','card61','devtype','devinfo','Productcd','R_emaildomain1','addr2','id_17','id_19']]\n",
        "y = final['isFraud']\n",
        "q = testf[['card61','devtype','Productcd','TransactionAmt','R_emaildomain1','addr2','id_17','id_19','devinfo']]\n",
        "\n",
        "X_test = X[0:12000]\n",
        "Y_test= y[0:12000]\n",
        "\n",
        "X_train = X[65157:]\n",
        "y_train = y[65157:]"
      ],
      "execution_count": 0,
      "outputs": []
    },
    {
      "cell_type": "code",
      "metadata": {
        "id": "n4UM0d0I_gu6",
        "colab_type": "code",
        "colab": {},
        "outputId": "f522c378-34aa-4b2f-80aa-431a948e80bd"
      },
      "source": [
        "clf_gini = RandomForestClassifier(criterion = \"gini\", random_state = 100,\n",
        "                               max_depth=3, min_samples_leaf=18)\n",
        "clf_gini.fit(X_train, y_train)"
      ],
      "execution_count": 0,
      "outputs": [
        {
          "output_type": "stream",
          "text": [
            "C:\\Users\\Laptop\\Anaconda3\\lib\\site-packages\\sklearn\\ensemble\\forest.py:245: FutureWarning: The default value of n_estimators will change from 10 in version 0.20 to 100 in 0.22.\n",
            "  \"10 in version 0.20 to 100 in 0.22.\", FutureWarning)\n"
          ],
          "name": "stderr"
        },
        {
          "output_type": "execute_result",
          "data": {
            "text/plain": [
              "RandomForestClassifier(bootstrap=True, class_weight=None, criterion='gini',\n",
              "                       max_depth=3, max_features='auto', max_leaf_nodes=None,\n",
              "                       min_impurity_decrease=0.0, min_impurity_split=None,\n",
              "                       min_samples_leaf=18, min_samples_split=2,\n",
              "                       min_weight_fraction_leaf=0.0, n_estimators=10,\n",
              "                       n_jobs=None, oob_score=False, random_state=100,\n",
              "                       verbose=0, warm_start=False)"
            ]
          },
          "metadata": {
            "tags": []
          },
          "execution_count": 58
        }
      ]
    },
    {
      "cell_type": "code",
      "metadata": {
        "id": "SkrYW5zK_gu7",
        "colab_type": "code",
        "colab": {},
        "outputId": "b5e60ea0-08d1-44f9-dfa9-fd76f13e03de"
      },
      "source": [
        "clf_entropy = DecisionTreeClassifier(criterion = \"entropy\", random_state = 100,\n",
        " max_depth=4, min_samples_leaf=32)\n",
        "clf_entropy.fit(X_train, y_train)"
      ],
      "execution_count": 0,
      "outputs": [
        {
          "output_type": "execute_result",
          "data": {
            "text/plain": [
              "DecisionTreeClassifier(class_weight=None, criterion='entropy', max_depth=4,\n",
              "                       max_features=None, max_leaf_nodes=None,\n",
              "                       min_impurity_decrease=0.0, min_impurity_split=None,\n",
              "                       min_samples_leaf=32, min_samples_split=2,\n",
              "                       min_weight_fraction_leaf=0.0, presort=False,\n",
              "                       random_state=100, splitter='best')"
            ]
          },
          "metadata": {
            "tags": []
          },
          "execution_count": 59
        }
      ]
    },
    {
      "cell_type": "code",
      "metadata": {
        "id": "X1L9vEoF_gu9",
        "colab_type": "code",
        "colab": {},
        "outputId": "eda624c1-58a7-4cad-b43f-02f49c6014ad"
      },
      "source": [
        "y_pred = clf_gini.predict(X_test)\n",
        "y_pred"
      ],
      "execution_count": 0,
      "outputs": [
        {
          "output_type": "execute_result",
          "data": {
            "text/plain": [
              "array([0, 0, 0, ..., 0, 0, 0], dtype=int64)"
            ]
          },
          "metadata": {
            "tags": []
          },
          "execution_count": 60
        }
      ]
    },
    {
      "cell_type": "code",
      "metadata": {
        "id": "jvCDX7zn_gu-",
        "colab_type": "code",
        "colab": {},
        "outputId": "e0cca7cb-87e0-49c9-8092-170bd692e08c"
      },
      "source": [
        "y_pred_en = clf_entropy.predict(X_test)\n",
        "y_pred_en"
      ],
      "execution_count": 0,
      "outputs": [
        {
          "output_type": "execute_result",
          "data": {
            "text/plain": [
              "array([0, 0, 0, ..., 0, 0, 0], dtype=int64)"
            ]
          },
          "metadata": {
            "tags": []
          },
          "execution_count": 61
        }
      ]
    },
    {
      "cell_type": "code",
      "metadata": {
        "id": "M96uqLuY_gu_",
        "colab_type": "code",
        "colab": {},
        "outputId": "327441c6-5887-45ef-c757-e562e05e6cb8"
      },
      "source": [
        "print(\"Accuracy is \", accuracy_score(Y_test,y_pred)*100)"
      ],
      "execution_count": 0,
      "outputs": [
        {
          "output_type": "stream",
          "text": [
            "Accuracy is  88.25833333333334\n"
          ],
          "name": "stdout"
        }
      ]
    },
    {
      "cell_type": "code",
      "metadata": {
        "id": "cUsX6d_W_gvA",
        "colab_type": "code",
        "colab": {},
        "outputId": "8d7bd7d7-184f-426e-f250-9c2b738b1f5c"
      },
      "source": [
        "print (\"Accuracy is \", accuracy_score(Y_test,y_pred_en)*100)"
      ],
      "execution_count": 0,
      "outputs": [
        {
          "output_type": "stream",
          "text": [
            "Accuracy is  88.05\n"
          ],
          "name": "stdout"
        }
      ]
    },
    {
      "cell_type": "markdown",
      "metadata": {
        "id": "GYhvB9oO_gvB",
        "colab_type": "text"
      },
      "source": [
        "### * Accuracy of 82.86 has been achieved for RandomForestClassifier using train dataset while an accuracy of 80.0666 has been got for DecisionTreeClassifier."
      ]
    },
    {
      "cell_type": "code",
      "metadata": {
        "id": "A-xU8eLF_gvC",
        "colab_type": "code",
        "colab": {}
      },
      "source": [
        "import numpy as np\n",
        "import pandas as pd\n",
        "from sklearn.model_selection import train_test_split\n",
        "from sklearn.tree import DecisionTreeClassifier\n",
        "from sklearn.metrics import accuracy_score\n",
        "from sklearn import tree\n",
        "from sklearn.ensemble import RandomForestClassifier \n",
        "from sklearn.datasets import make_classification\n",
        "\n",
        "\n",
        "X = final[['TransactionAmt','card61','devtype','devinfo','Productcd','R_emaildomain1','addr2','id_17','id_19']]\n",
        "y = final['isFraud']\n",
        "q = testf[['card61','devtype','Productcd','TransactionAmt','R_emaildomain1','addr2','id_17','id_19','devinfo']]\n",
        "\n",
        "X_test = q[0:506691]\n",
        "\n",
        "\n",
        "X_train = X[65157:]\n",
        "y_train = y[65157:]"
      ],
      "execution_count": 0,
      "outputs": []
    },
    {
      "cell_type": "code",
      "metadata": {
        "id": "ghnDUGAR_gvC",
        "colab_type": "code",
        "colab": {},
        "outputId": "c0593e8b-0d46-499f-d6ec-61e7c5e64685"
      },
      "source": [
        "clf_gini = RandomForestClassifier(criterion = \"gini\", random_state = 100,\n",
        "                               max_depth=3, min_samples_leaf=18)\n",
        "clf_gini.fit(X_train, y_train)\n",
        "clf_entropy = DecisionTreeClassifier(criterion = \"entropy\", random_state = 100,\n",
        " max_depth=4, min_samples_leaf=32)\n",
        "clf_entropy.fit(X_train, y_train)"
      ],
      "execution_count": 0,
      "outputs": [
        {
          "output_type": "stream",
          "text": [
            "C:\\Users\\Laptop\\Anaconda3\\lib\\site-packages\\sklearn\\ensemble\\forest.py:245: FutureWarning: The default value of n_estimators will change from 10 in version 0.20 to 100 in 0.22.\n",
            "  \"10 in version 0.20 to 100 in 0.22.\", FutureWarning)\n"
          ],
          "name": "stderr"
        },
        {
          "output_type": "execute_result",
          "data": {
            "text/plain": [
              "DecisionTreeClassifier(class_weight=None, criterion='entropy', max_depth=4,\n",
              "                       max_features=None, max_leaf_nodes=None,\n",
              "                       min_impurity_decrease=0.0, min_impurity_split=None,\n",
              "                       min_samples_leaf=32, min_samples_split=2,\n",
              "                       min_weight_fraction_leaf=0.0, presort=False,\n",
              "                       random_state=100, splitter='best')"
            ]
          },
          "metadata": {
            "tags": []
          },
          "execution_count": 67
        }
      ]
    },
    {
      "cell_type": "code",
      "metadata": {
        "id": "xxoQe0X1_gvD",
        "colab_type": "code",
        "colab": {},
        "outputId": "a4130c51-248f-4ba7-8e65-bab71df679e2"
      },
      "source": [
        "y_pred = clf_gini.predict(X_test)\n",
        "y_pred"
      ],
      "execution_count": 0,
      "outputs": [
        {
          "output_type": "execute_result",
          "data": {
            "text/plain": [
              "array([0, 0, 0, ..., 0, 0, 0], dtype=int64)"
            ]
          },
          "metadata": {
            "tags": []
          },
          "execution_count": 68
        }
      ]
    },
    {
      "cell_type": "code",
      "metadata": {
        "id": "lgKkPUV7_gvE",
        "colab_type": "code",
        "colab": {},
        "outputId": "75f11932-c9e6-44b1-d47c-3a0618715da3"
      },
      "source": [
        "y_pred_en = clf_entropy.predict(X_test)\n",
        "y_pred_en"
      ],
      "execution_count": 0,
      "outputs": [
        {
          "output_type": "execute_result",
          "data": {
            "text/plain": [
              "array([0, 0, 0, ..., 0, 0, 0], dtype=int64)"
            ]
          },
          "metadata": {
            "tags": []
          },
          "execution_count": 69
        }
      ]
    },
    {
      "cell_type": "code",
      "metadata": {
        "id": "1NQzxv1h_gvF",
        "colab_type": "code",
        "colab": {}
      },
      "source": [
        "win = pd.DataFrame(columns=['TransactionID', 'isFraud'])"
      ],
      "execution_count": 0,
      "outputs": []
    },
    {
      "cell_type": "code",
      "metadata": {
        "id": "jMw7h67Q_gvG",
        "colab_type": "code",
        "colab": {}
      },
      "source": [
        "win['TransactionID']=test['TransactionID']\n",
        "win['isFraud']=y_pred"
      ],
      "execution_count": 0,
      "outputs": []
    },
    {
      "cell_type": "code",
      "metadata": {
        "id": "_ZsaEl37_gvH",
        "colab_type": "code",
        "colab": {}
      },
      "source": [
        "win.to_csv('D:\\\\Anaconda\\\\submission.csv',index=False)"
      ],
      "execution_count": 0,
      "outputs": []
    },
    {
      "cell_type": "markdown",
      "metadata": {
        "id": "4xRc8u0y_gvH",
        "colab_type": "text"
      },
      "source": [
        "### *Since the dataset has more number of non-fraudulent dataset it creates an imbalance leading to wrong predictions .So undersampling was performed to take into account only 90% of the non-fraudulent transactions.After cleaning the data to remove nan values ,one hot encoding was performed to make categorical features into continuous features and 9 best features were passed through Randomforest and Decisiontree classifier to predict the results for test data."
      ]
    },
    {
      "cell_type": "markdown",
      "metadata": {
        "id": "47HyIK7N_gvI",
        "colab_type": "text"
      },
      "source": [
        "## Part 7 - Final Result"
      ]
    },
    {
      "cell_type": "markdown",
      "metadata": {
        "id": "7x0_y9jz_gvI",
        "colab_type": "text"
      },
      "source": [
        "Report the rank, score, number of entries, for your highest rank. Include a snapshot of your best score on the leaderboard as confirmation. Be sure to provide a link to your Kaggle profile. Make sure to include a screenshot of your ranking. Make sure your profile includes your face and affiliation with SBU."
      ]
    },
    {
      "cell_type": "markdown",
      "metadata": {
        "id": "0vi5hVnR_gvI",
        "colab_type": "text"
      },
      "source": [
        "Kaggle Link: https://www.kaggle.com/pranamika"
      ]
    },
    {
      "cell_type": "markdown",
      "metadata": {
        "id": "V-FBzCjO_gvI",
        "colab_type": "text"
      },
      "source": [
        "Highest Rank: 5471"
      ]
    },
    {
      "cell_type": "markdown",
      "metadata": {
        "id": "3xV0hP8k_gvI",
        "colab_type": "text"
      },
      "source": [
        "Score: 0.7405"
      ]
    },
    {
      "cell_type": "markdown",
      "metadata": {
        "id": "qfSoOlSz_gvI",
        "colab_type": "text"
      },
      "source": [
        "Number of entries: 5"
      ]
    },
    {
      "cell_type": "markdown",
      "metadata": {
        "id": "Kl_kOiZ0_gvI",
        "colab_type": "text"
      },
      "source": [
        "INCLUDE IMAGE OF YOUR KAGGLE RANKING![Screen%20Shot%202019-09-26%20at%205.30.14%20AM.png](attachment:Screen%20Shot%202019-09-26%20at%205.30.14%20AM.png)"
      ]
    }
  ]
}