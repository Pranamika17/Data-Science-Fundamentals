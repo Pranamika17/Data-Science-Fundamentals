{
 "cells": [
  {
   "cell_type": "code",
   "execution_count": 1,
   "metadata": {},
   "outputs": [],
   "source": [
    "import pandas as pd\n",
    "import numpy as np\n",
    "import matplotlib.pyplot as plt\n",
    "import seaborn as sns"
   ]
  },
  {
   "cell_type": "code",
   "execution_count": 2,
   "metadata": {},
   "outputs": [
    {
     "name": "stderr",
     "output_type": "stream",
     "text": [
      "/home/harshith/anaconda3/lib/python3.7/site-packages/IPython/core/interactiveshell.py:3057: DtypeWarning: Columns (0,1,2,3,4,5,6,7,8,9,10,11,12,13) have mixed types. Specify dtype option on import or set low_memory=False.\n",
      "  interactivity=interactivity, compiler=compiler, result=result)\n"
     ]
    }
   ],
   "source": [
    "db=pd.read_csv('total.csv')\n"
   ]
  },
  {
   "cell_type": "code",
   "execution_count": 3,
   "metadata": {},
   "outputs": [],
   "source": [
    "db = db.dropna(subset=['popularity','title'])"
   ]
  },
  {
   "cell_type": "code",
   "execution_count": 168,
   "metadata": {},
   "outputs": [
    {
     "data": {
      "text/html": [
       "<div>\n",
       "<style scoped>\n",
       "    .dataframe tbody tr th:only-of-type {\n",
       "        vertical-align: middle;\n",
       "    }\n",
       "\n",
       "    .dataframe tbody tr th {\n",
       "        vertical-align: top;\n",
       "    }\n",
       "\n",
       "    .dataframe thead th {\n",
       "        text-align: right;\n",
       "    }\n",
       "</style>\n",
       "<table border=\"1\" class=\"dataframe\">\n",
       "  <thead>\n",
       "    <tr style=\"text-align: right;\">\n",
       "      <th></th>\n",
       "      <th>fn</th>\n",
       "      <th>tid</th>\n",
       "      <th>title</th>\n",
       "      <th>wordsInTitle</th>\n",
       "      <th>url</th>\n",
       "      <th>imdbRating</th>\n",
       "      <th>ratingCount</th>\n",
       "      <th>duration</th>\n",
       "      <th>year</th>\n",
       "      <th>type</th>\n",
       "      <th>...</th>\n",
       "      <th>overview</th>\n",
       "      <th>runtime</th>\n",
       "      <th>genres</th>\n",
       "      <th>production_companies</th>\n",
       "      <th>release_date</th>\n",
       "      <th>vote_count</th>\n",
       "      <th>vote_average</th>\n",
       "      <th>release_year</th>\n",
       "      <th>budget_adj</th>\n",
       "      <th>revenue_adj</th>\n",
       "    </tr>\n",
       "  </thead>\n",
       "  <tbody>\n",
       "    <tr>\n",
       "      <th>8947</th>\n",
       "      <td>titles04/index.html.13466</td>\n",
       "      <td>tt2015381</td>\n",
       "      <td>Guardians of the Galaxy (2014)</td>\n",
       "      <td>guardians of the galaxy</td>\n",
       "      <td>http://www.imdb.com/title/tt2015381/</td>\n",
       "      <td>NaN</td>\n",
       "      <td>NaN</td>\n",
       "      <td>7320</td>\n",
       "      <td>2014</td>\n",
       "      <td>video.movie</td>\n",
       "      <td>...</td>\n",
       "      <td>Light years from Earth, 26 years after being a...</td>\n",
       "      <td>121.0</td>\n",
       "      <td>Action|Science Fiction|Adventure</td>\n",
       "      <td>Marvel Studios|Moving Picture Company (MPC)|Bu...</td>\n",
       "      <td>7/30/14</td>\n",
       "      <td>5612.0</td>\n",
       "      <td>7.9</td>\n",
       "      <td>2014.0</td>\n",
       "      <td>1.565855e+08</td>\n",
       "      <td>7.122911e+08</td>\n",
       "    </tr>\n",
       "  </tbody>\n",
       "</table>\n",
       "<p>1 rows × 66 columns</p>\n",
       "</div>"
      ],
      "text/plain": [
       "                             fn        tid                           title  \\\n",
       "8947  titles04/index.html.13466  tt2015381  Guardians of the Galaxy (2014)   \n",
       "\n",
       "                 wordsInTitle                                   url  \\\n",
       "8947  guardians of the galaxy  http://www.imdb.com/title/tt2015381/   \n",
       "\n",
       "     imdbRating ratingCount duration  year         type  ...  \\\n",
       "8947        NaN         NaN     7320  2014  video.movie  ...   \n",
       "\n",
       "                                               overview runtime  \\\n",
       "8947  Light years from Earth, 26 years after being a...   121.0   \n",
       "\n",
       "                                genres  \\\n",
       "8947  Action|Science Fiction|Adventure   \n",
       "\n",
       "                                   production_companies  release_date  \\\n",
       "8947  Marvel Studios|Moving Picture Company (MPC)|Bu...       7/30/14   \n",
       "\n",
       "      vote_count  vote_average  release_year    budget_adj   revenue_adj  \n",
       "8947      5612.0           7.9        2014.0  1.565855e+08  7.122911e+08  \n",
       "\n",
       "[1 rows x 66 columns]"
      ]
     },
     "execution_count": 168,
     "metadata": {},
     "output_type": "execute_result"
    }
   ],
   "source": [
    "db.loc[db['vote_count'] == 5612]\n"
   ]
  },
  {
   "cell_type": "code",
   "execution_count": 38,
   "metadata": {},
   "outputs": [],
   "source": [
    "data=pd.read_csv('yaya2.csv',encoding = 'utf-8')\n",
    "data = data[['Name','Description']]\n",
    "data['Description'] = data['Description'].str[:-6]\n",
    "temp = pd.merge(db, data, how='left', left_on='director', right_on='Name')"
   ]
  },
  {
   "cell_type": "code",
   "execution_count": 39,
   "metadata": {},
   "outputs": [],
   "source": [
    "temp['Description'].fillna(300, inplace=True)"
   ]
  },
  {
   "cell_type": "code",
   "execution_count": 60,
   "metadata": {},
   "outputs": [],
   "source": [
    "temp = temp[['imdbRating',\n",
    "       'ratingCount', 'duration', 'year', 'nrOfWins',\n",
    "       'nrOfNominations', 'nrOfPhotos', 'nrOfNewsArticles', 'nrOfUserReviews',\n",
    "       'nrOfGenre', 'Action', 'Adult', 'Adventure', 'Animation', 'Biography',\n",
    "       'Comedy', 'Crime', 'Documentary', 'Drama', 'Family', 'Fantasy',\n",
    "       'FilmNoir', 'GameShow', 'History', 'Horror', 'Music', 'Musical',\n",
    "       'Mystery', 'News', 'RealityTV', 'Romance', 'SciFi', 'Short', 'Sport',\n",
    "       'TalkShow', 'Thriller', 'War', 'Western','popularity', 'budget', 'revenue', 'vote_count',\n",
    "       'vote_average', 'release_year', 'budget_adj', 'revenue_adj',\n",
    "       'Description']]"
   ]
  },
  {
   "cell_type": "code",
   "execution_count": 7,
   "metadata": {},
   "outputs": [
    {
     "ename": "KeyError",
     "evalue": "'cast'",
     "output_type": "error",
     "traceback": [
      "\u001b[0;31m---------------------------------------------------------------------------\u001b[0m",
      "\u001b[0;31mKeyError\u001b[0m                                  Traceback (most recent call last)",
      "\u001b[0;32m~/anaconda3/lib/python3.7/site-packages/pandas/core/indexes/base.py\u001b[0m in \u001b[0;36mget_loc\u001b[0;34m(self, key, method, tolerance)\u001b[0m\n\u001b[1;32m   2896\u001b[0m             \u001b[0;32mtry\u001b[0m\u001b[0;34m:\u001b[0m\u001b[0;34m\u001b[0m\u001b[0;34m\u001b[0m\u001b[0m\n\u001b[0;32m-> 2897\u001b[0;31m                 \u001b[0;32mreturn\u001b[0m \u001b[0mself\u001b[0m\u001b[0;34m.\u001b[0m\u001b[0m_engine\u001b[0m\u001b[0;34m.\u001b[0m\u001b[0mget_loc\u001b[0m\u001b[0;34m(\u001b[0m\u001b[0mkey\u001b[0m\u001b[0;34m)\u001b[0m\u001b[0;34m\u001b[0m\u001b[0;34m\u001b[0m\u001b[0m\n\u001b[0m\u001b[1;32m   2898\u001b[0m             \u001b[0;32mexcept\u001b[0m \u001b[0mKeyError\u001b[0m\u001b[0;34m:\u001b[0m\u001b[0;34m\u001b[0m\u001b[0;34m\u001b[0m\u001b[0m\n",
      "\u001b[0;32mpandas/_libs/index.pyx\u001b[0m in \u001b[0;36mpandas._libs.index.IndexEngine.get_loc\u001b[0;34m()\u001b[0m\n",
      "\u001b[0;32mpandas/_libs/index.pyx\u001b[0m in \u001b[0;36mpandas._libs.index.IndexEngine.get_loc\u001b[0;34m()\u001b[0m\n",
      "\u001b[0;32mpandas/_libs/hashtable_class_helper.pxi\u001b[0m in \u001b[0;36mpandas._libs.hashtable.PyObjectHashTable.get_item\u001b[0;34m()\u001b[0m\n",
      "\u001b[0;32mpandas/_libs/hashtable_class_helper.pxi\u001b[0m in \u001b[0;36mpandas._libs.hashtable.PyObjectHashTable.get_item\u001b[0;34m()\u001b[0m\n",
      "\u001b[0;31mKeyError\u001b[0m: 'cast'",
      "\nDuring handling of the above exception, another exception occurred:\n",
      "\u001b[0;31mKeyError\u001b[0m                                  Traceback (most recent call last)",
      "\u001b[0;32m<ipython-input-7-8365debaa04d>\u001b[0m in \u001b[0;36m<module>\u001b[0;34m\u001b[0m\n\u001b[0;32m----> 1\u001b[0;31m \u001b[0ms\u001b[0m \u001b[0;34m=\u001b[0m \u001b[0mtemp\u001b[0m\u001b[0;34m[\u001b[0m\u001b[0;34m'cast'\u001b[0m\u001b[0;34m]\u001b[0m\u001b[0;34m\u001b[0m\u001b[0;34m\u001b[0m\u001b[0m\n\u001b[0m\u001b[1;32m      2\u001b[0m \u001b[0;31m#s.isna().sum()\u001b[0m\u001b[0;34m\u001b[0m\u001b[0;34m\u001b[0m\u001b[0;34m\u001b[0m\u001b[0m\n",
      "\u001b[0;32m~/anaconda3/lib/python3.7/site-packages/pandas/core/frame.py\u001b[0m in \u001b[0;36m__getitem__\u001b[0;34m(self, key)\u001b[0m\n\u001b[1;32m   2993\u001b[0m             \u001b[0;32mif\u001b[0m \u001b[0mself\u001b[0m\u001b[0;34m.\u001b[0m\u001b[0mcolumns\u001b[0m\u001b[0;34m.\u001b[0m\u001b[0mnlevels\u001b[0m \u001b[0;34m>\u001b[0m \u001b[0;36m1\u001b[0m\u001b[0;34m:\u001b[0m\u001b[0;34m\u001b[0m\u001b[0;34m\u001b[0m\u001b[0m\n\u001b[1;32m   2994\u001b[0m                 \u001b[0;32mreturn\u001b[0m \u001b[0mself\u001b[0m\u001b[0;34m.\u001b[0m\u001b[0m_getitem_multilevel\u001b[0m\u001b[0;34m(\u001b[0m\u001b[0mkey\u001b[0m\u001b[0;34m)\u001b[0m\u001b[0;34m\u001b[0m\u001b[0;34m\u001b[0m\u001b[0m\n\u001b[0;32m-> 2995\u001b[0;31m             \u001b[0mindexer\u001b[0m \u001b[0;34m=\u001b[0m \u001b[0mself\u001b[0m\u001b[0;34m.\u001b[0m\u001b[0mcolumns\u001b[0m\u001b[0;34m.\u001b[0m\u001b[0mget_loc\u001b[0m\u001b[0;34m(\u001b[0m\u001b[0mkey\u001b[0m\u001b[0;34m)\u001b[0m\u001b[0;34m\u001b[0m\u001b[0;34m\u001b[0m\u001b[0m\n\u001b[0m\u001b[1;32m   2996\u001b[0m             \u001b[0;32mif\u001b[0m \u001b[0mis_integer\u001b[0m\u001b[0;34m(\u001b[0m\u001b[0mindexer\u001b[0m\u001b[0;34m)\u001b[0m\u001b[0;34m:\u001b[0m\u001b[0;34m\u001b[0m\u001b[0;34m\u001b[0m\u001b[0m\n\u001b[1;32m   2997\u001b[0m                 \u001b[0mindexer\u001b[0m \u001b[0;34m=\u001b[0m \u001b[0;34m[\u001b[0m\u001b[0mindexer\u001b[0m\u001b[0;34m]\u001b[0m\u001b[0;34m\u001b[0m\u001b[0;34m\u001b[0m\u001b[0m\n",
      "\u001b[0;32m~/anaconda3/lib/python3.7/site-packages/pandas/core/indexes/base.py\u001b[0m in \u001b[0;36mget_loc\u001b[0;34m(self, key, method, tolerance)\u001b[0m\n\u001b[1;32m   2897\u001b[0m                 \u001b[0;32mreturn\u001b[0m \u001b[0mself\u001b[0m\u001b[0;34m.\u001b[0m\u001b[0m_engine\u001b[0m\u001b[0;34m.\u001b[0m\u001b[0mget_loc\u001b[0m\u001b[0;34m(\u001b[0m\u001b[0mkey\u001b[0m\u001b[0;34m)\u001b[0m\u001b[0;34m\u001b[0m\u001b[0;34m\u001b[0m\u001b[0m\n\u001b[1;32m   2898\u001b[0m             \u001b[0;32mexcept\u001b[0m \u001b[0mKeyError\u001b[0m\u001b[0;34m:\u001b[0m\u001b[0;34m\u001b[0m\u001b[0;34m\u001b[0m\u001b[0m\n\u001b[0;32m-> 2899\u001b[0;31m                 \u001b[0;32mreturn\u001b[0m \u001b[0mself\u001b[0m\u001b[0;34m.\u001b[0m\u001b[0m_engine\u001b[0m\u001b[0;34m.\u001b[0m\u001b[0mget_loc\u001b[0m\u001b[0;34m(\u001b[0m\u001b[0mself\u001b[0m\u001b[0;34m.\u001b[0m\u001b[0m_maybe_cast_indexer\u001b[0m\u001b[0;34m(\u001b[0m\u001b[0mkey\u001b[0m\u001b[0;34m)\u001b[0m\u001b[0;34m)\u001b[0m\u001b[0;34m\u001b[0m\u001b[0;34m\u001b[0m\u001b[0m\n\u001b[0m\u001b[1;32m   2900\u001b[0m         \u001b[0mindexer\u001b[0m \u001b[0;34m=\u001b[0m \u001b[0mself\u001b[0m\u001b[0;34m.\u001b[0m\u001b[0mget_indexer\u001b[0m\u001b[0;34m(\u001b[0m\u001b[0;34m[\u001b[0m\u001b[0mkey\u001b[0m\u001b[0;34m]\u001b[0m\u001b[0;34m,\u001b[0m \u001b[0mmethod\u001b[0m\u001b[0;34m=\u001b[0m\u001b[0mmethod\u001b[0m\u001b[0;34m,\u001b[0m \u001b[0mtolerance\u001b[0m\u001b[0;34m=\u001b[0m\u001b[0mtolerance\u001b[0m\u001b[0;34m)\u001b[0m\u001b[0;34m\u001b[0m\u001b[0;34m\u001b[0m\u001b[0m\n\u001b[1;32m   2901\u001b[0m         \u001b[0;32mif\u001b[0m \u001b[0mindexer\u001b[0m\u001b[0;34m.\u001b[0m\u001b[0mndim\u001b[0m \u001b[0;34m>\u001b[0m \u001b[0;36m1\u001b[0m \u001b[0;32mor\u001b[0m \u001b[0mindexer\u001b[0m\u001b[0;34m.\u001b[0m\u001b[0msize\u001b[0m \u001b[0;34m>\u001b[0m \u001b[0;36m1\u001b[0m\u001b[0;34m:\u001b[0m\u001b[0;34m\u001b[0m\u001b[0;34m\u001b[0m\u001b[0m\n",
      "\u001b[0;32mpandas/_libs/index.pyx\u001b[0m in \u001b[0;36mpandas._libs.index.IndexEngine.get_loc\u001b[0;34m()\u001b[0m\n",
      "\u001b[0;32mpandas/_libs/index.pyx\u001b[0m in \u001b[0;36mpandas._libs.index.IndexEngine.get_loc\u001b[0;34m()\u001b[0m\n",
      "\u001b[0;32mpandas/_libs/hashtable_class_helper.pxi\u001b[0m in \u001b[0;36mpandas._libs.hashtable.PyObjectHashTable.get_item\u001b[0;34m()\u001b[0m\n",
      "\u001b[0;32mpandas/_libs/hashtable_class_helper.pxi\u001b[0m in \u001b[0;36mpandas._libs.hashtable.PyObjectHashTable.get_item\u001b[0;34m()\u001b[0m\n",
      "\u001b[0;31mKeyError\u001b[0m: 'cast'"
     ]
    }
   ],
   "source": [
    "s = temp['cast']\n",
    "#s.isna().sum() "
   ]
  },
  {
   "cell_type": "code",
   "execution_count": 89,
   "metadata": {},
   "outputs": [],
   "source": [
    "temp['year'] = temp['year'].astype(float)"
   ]
  },
  {
   "cell_type": "code",
   "execution_count": 56,
   "metadata": {},
   "outputs": [],
   "source": [
    "temp = temp[temp['nrOfWins'] != 'video.movie']\n",
    "temp = temp[temp['nrOfWins'] != 'video.tv']\n",
    "temp = temp[temp['nrOfNominations'] != 'video.movie']\n",
    "temp = temp[temp['nrOfNominations'] != 'video.tv']\n",
    "temp = temp[temp['nrOfNewsArticles'] != 'video.movie']\n",
    "temp = temp[temp['nrOfNewsArticles'] != 'video.tv']\n",
    "temp = temp[temp['nrOfPhotos'] != 'video.movie']\n",
    "temp = temp[temp['nrOfPhotos'] != 'video.tv']"
   ]
  },
  {
   "cell_type": "code",
   "execution_count": 42,
   "metadata": {},
   "outputs": [
    {
     "data": {
      "text/plain": [
       "array(['18', '6', '15', '17', '20', '12', '4', '5', '11', '29', '10', '0',\n",
       "       '13', '9', '30', '22', '26', '35', '21', '2', '25', '3', '33',\n",
       "       '16', '7', '40', '44', '70', '38', '62', '1', '19', '60', '78',\n",
       "       '32', '82', '58', '122', '76', '91', '51', '27', '14', '47', '49',\n",
       "       '37', '28', '46', '8', '64', '36', '94', '74', '110', '52', '57',\n",
       "       '114', '53', '83', '104', '86', '42', '131', '61', '23', '63',\n",
       "       '34', '31', '7620', '108', '102', '24', '50', '41', '55', '45',\n",
       "       '39', '66', '43', '73', '93', '54', '89', '79', '137', '75',\n",
       "       '5640', '116', '59'], dtype=object)"
      ]
     },
     "execution_count": 42,
     "metadata": {},
     "output_type": "execute_result"
    }
   ],
   "source": [
    "temp['nrOfWins'].unique()"
   ]
  },
  {
   "cell_type": "code",
   "execution_count": 90,
   "metadata": {},
   "outputs": [
    {
     "data": {
      "text/plain": [
       "imdbRating          float64\n",
       "ratingCount         float64\n",
       "duration            float64\n",
       "year                float64\n",
       "nrOfWins            float64\n",
       "nrOfNominations     float64\n",
       "nrOfPhotos          float64\n",
       "nrOfNewsArticles    float64\n",
       "nrOfUserReviews     float64\n",
       "nrOfGenre           float64\n",
       "Action              float64\n",
       "Adult               float64\n",
       "Adventure           float64\n",
       "Animation           float64\n",
       "Biography           float64\n",
       "Comedy              float64\n",
       "Crime               float64\n",
       "Documentary         float64\n",
       "Drama               float64\n",
       "Family              float64\n",
       "Fantasy             float64\n",
       "FilmNoir            float64\n",
       "GameShow            float64\n",
       "History             float64\n",
       "Horror              float64\n",
       "Music               float64\n",
       "Musical             float64\n",
       "Mystery             float64\n",
       "News                float64\n",
       "RealityTV           float64\n",
       "Romance             float64\n",
       "SciFi               float64\n",
       "Short               float64\n",
       "Sport               float64\n",
       "TalkShow            float64\n",
       "Thriller            float64\n",
       "War                 float64\n",
       "Western             float64\n",
       "popularity          float64\n",
       "budget              float64\n",
       "revenue             float64\n",
       "vote_count          float64\n",
       "vote_average        float64\n",
       "release_year        float64\n",
       "budget_adj          float64\n",
       "revenue_adj         float64\n",
       "Description         float64\n",
       "dtype: object"
      ]
     },
     "execution_count": 90,
     "metadata": {},
     "output_type": "execute_result"
    }
   ],
   "source": [
    "temp.dtypes"
   ]
  },
  {
   "cell_type": "code",
   "execution_count": 80,
   "metadata": {},
   "outputs": [],
   "source": [
    "temp['imdbRating'].fillna(6, inplace=True)\n",
    "temp['ratingCount'].fillna(0, inplace=True)\n",
    "temp['duration'].fillna(6000, inplace=True)"
   ]
  },
  {
   "cell_type": "code",
   "execution_count": 117,
   "metadata": {},
   "outputs": [
    {
     "data": {
      "text/plain": [
       "1.0"
      ]
     },
     "execution_count": 117,
     "metadata": {},
     "output_type": "execute_result"
    }
   ],
   "source": [
    "tempscale[\"revenue_adj\"].max()"
   ]
  },
  {
   "cell_type": "code",
   "execution_count": 83,
   "metadata": {},
   "outputs": [],
   "source": [
    "temp = temp.dropna(subset=['year'])"
   ]
  },
  {
   "cell_type": "code",
   "execution_count": 84,
   "metadata": {
    "scrolled": true
   },
   "outputs": [
    {
     "data": {
      "text/plain": [
       "imdbRating          0\n",
       "ratingCount         0\n",
       "duration            0\n",
       "year                0\n",
       "nrOfWins            0\n",
       "nrOfNominations     0\n",
       "nrOfPhotos          0\n",
       "nrOfNewsArticles    0\n",
       "nrOfUserReviews     0\n",
       "nrOfGenre           0\n",
       "Action              0\n",
       "Adult               0\n",
       "Adventure           0\n",
       "Animation           0\n",
       "Biography           0\n",
       "Comedy              0\n",
       "Crime               0\n",
       "Documentary         0\n",
       "Drama               0\n",
       "Family              0\n",
       "Fantasy             0\n",
       "FilmNoir            0\n",
       "GameShow            0\n",
       "History             0\n",
       "Horror              0\n",
       "Music               0\n",
       "Musical             0\n",
       "Mystery             0\n",
       "News                0\n",
       "RealityTV           0\n",
       "Romance             0\n",
       "SciFi               0\n",
       "Short               0\n",
       "Sport               0\n",
       "TalkShow            0\n",
       "Thriller            0\n",
       "War                 0\n",
       "Western             0\n",
       "popularity          0\n",
       "budget              0\n",
       "revenue             0\n",
       "vote_count          0\n",
       "vote_average        0\n",
       "release_year        0\n",
       "budget_adj          0\n",
       "revenue_adj         0\n",
       "Description         0\n",
       "dtype: int64"
      ]
     },
     "execution_count": 84,
     "metadata": {},
     "output_type": "execute_result"
    }
   ],
   "source": [
    "temp.isnull().sum(axis = 0)"
   ]
  },
  {
   "cell_type": "code",
   "execution_count": 92,
   "metadata": {},
   "outputs": [],
   "source": [
    "copy = temp.copy()"
   ]
  },
  {
   "cell_type": "code",
   "execution_count": 95,
   "metadata": {},
   "outputs": [],
   "source": [
    "temp[['budget_adj', 'revenue_adj']] = temp[['budget_adj', 'revenue_adj']].apply(lambda x: (x - x.min()) / (x.max() - x.min()))"
   ]
  },
  {
   "cell_type": "code",
   "execution_count": 103,
   "metadata": {},
   "outputs": [],
   "source": [
    "from sklearn import preprocessing\n",
    "\n",
    "x = temp.values #returns a numpy array\n",
    "min_max_scaler = preprocessing.MinMaxScaler()\n",
    "x_scaled = min_max_scaler.fit_transform(x)\n",
    "tempscale = pd.DataFrame(x_scaled, columns = temp.columns)"
   ]
  },
  {
   "cell_type": "code",
   "execution_count": 104,
   "metadata": {},
   "outputs": [
    {
     "data": {
      "text/html": [
       "<div>\n",
       "<style scoped>\n",
       "    .dataframe tbody tr th:only-of-type {\n",
       "        vertical-align: middle;\n",
       "    }\n",
       "\n",
       "    .dataframe tbody tr th {\n",
       "        vertical-align: top;\n",
       "    }\n",
       "\n",
       "    .dataframe thead th {\n",
       "        text-align: right;\n",
       "    }\n",
       "</style>\n",
       "<table border=\"1\" class=\"dataframe\">\n",
       "  <thead>\n",
       "    <tr style=\"text-align: right;\">\n",
       "      <th></th>\n",
       "      <th>imdbRating</th>\n",
       "      <th>ratingCount</th>\n",
       "      <th>duration</th>\n",
       "      <th>year</th>\n",
       "      <th>nrOfWins</th>\n",
       "      <th>nrOfNominations</th>\n",
       "      <th>nrOfPhotos</th>\n",
       "      <th>nrOfNewsArticles</th>\n",
       "      <th>nrOfUserReviews</th>\n",
       "      <th>nrOfGenre</th>\n",
       "      <th>...</th>\n",
       "      <th>Western</th>\n",
       "      <th>popularity</th>\n",
       "      <th>budget</th>\n",
       "      <th>revenue</th>\n",
       "      <th>vote_count</th>\n",
       "      <th>vote_average</th>\n",
       "      <th>release_year</th>\n",
       "      <th>budget_adj</th>\n",
       "      <th>revenue_adj</th>\n",
       "      <th>Description</th>\n",
       "    </tr>\n",
       "  </thead>\n",
       "  <tbody>\n",
       "    <tr>\n",
       "      <th>0</th>\n",
       "      <td>0.8500</td>\n",
       "      <td>0.065575</td>\n",
       "      <td>0.140571</td>\n",
       "      <td>0.000000</td>\n",
       "      <td>0.131387</td>\n",
       "      <td>0.058394</td>\n",
       "      <td>0.088452</td>\n",
       "      <td>0.008918</td>\n",
       "      <td>0.044846</td>\n",
       "      <td>1.0</td>\n",
       "      <td>...</td>\n",
       "      <td>0.0</td>\n",
       "      <td>0.066121</td>\n",
       "      <td>0.007059</td>\n",
       "      <td>0.008988</td>\n",
       "      <td>0.023060</td>\n",
       "      <td>0.816901</td>\n",
       "      <td>0.000000</td>\n",
       "      <td>0.052044</td>\n",
       "      <td>0.065198</td>\n",
       "      <td>0.104505</td>\n",
       "    </tr>\n",
       "    <tr>\n",
       "      <th>1</th>\n",
       "      <td>0.8750</td>\n",
       "      <td>0.250699</td>\n",
       "      <td>0.122286</td>\n",
       "      <td>0.000000</td>\n",
       "      <td>0.043796</td>\n",
       "      <td>0.036496</td>\n",
       "      <td>0.383292</td>\n",
       "      <td>0.087025</td>\n",
       "      <td>0.179586</td>\n",
       "      <td>1.0</td>\n",
       "      <td>...</td>\n",
       "      <td>0.0</td>\n",
       "      <td>0.182336</td>\n",
       "      <td>0.001899</td>\n",
       "      <td>0.011505</td>\n",
       "      <td>0.119914</td>\n",
       "      <td>0.830986</td>\n",
       "      <td>0.000000</td>\n",
       "      <td>0.013999</td>\n",
       "      <td>0.083454</td>\n",
       "      <td>0.289934</td>\n",
       "    </tr>\n",
       "    <tr>\n",
       "      <th>2</th>\n",
       "      <td>0.8125</td>\n",
       "      <td>0.039833</td>\n",
       "      <td>0.150857</td>\n",
       "      <td>0.018182</td>\n",
       "      <td>0.109489</td>\n",
       "      <td>0.102190</td>\n",
       "      <td>0.071253</td>\n",
       "      <td>0.005495</td>\n",
       "      <td>0.029424</td>\n",
       "      <td>0.5</td>\n",
       "      <td>...</td>\n",
       "      <td>0.0</td>\n",
       "      <td>0.020264</td>\n",
       "      <td>0.004706</td>\n",
       "      <td>0.000000</td>\n",
       "      <td>0.009122</td>\n",
       "      <td>0.732394</td>\n",
       "      <td>0.018182</td>\n",
       "      <td>0.034329</td>\n",
       "      <td>0.000000</td>\n",
       "      <td>0.004577</td>\n",
       "    </tr>\n",
       "    <tr>\n",
       "      <th>3</th>\n",
       "      <td>0.8375</td>\n",
       "      <td>0.024328</td>\n",
       "      <td>0.210286</td>\n",
       "      <td>0.018182</td>\n",
       "      <td>0.124088</td>\n",
       "      <td>0.153285</td>\n",
       "      <td>0.073710</td>\n",
       "      <td>0.004142</td>\n",
       "      <td>0.031656</td>\n",
       "      <td>1.0</td>\n",
       "      <td>...</td>\n",
       "      <td>0.0</td>\n",
       "      <td>0.037543</td>\n",
       "      <td>0.007059</td>\n",
       "      <td>0.003595</td>\n",
       "      <td>0.005842</td>\n",
       "      <td>0.647887</td>\n",
       "      <td>0.018182</td>\n",
       "      <td>0.051493</td>\n",
       "      <td>0.025803</td>\n",
       "      <td>0.012053</td>\n",
       "    </tr>\n",
       "    <tr>\n",
       "      <th>4</th>\n",
       "      <td>0.8500</td>\n",
       "      <td>0.118918</td>\n",
       "      <td>0.244571</td>\n",
       "      <td>0.036364</td>\n",
       "      <td>0.145985</td>\n",
       "      <td>0.094891</td>\n",
       "      <td>0.223587</td>\n",
       "      <td>0.039265</td>\n",
       "      <td>0.103287</td>\n",
       "      <td>1.0</td>\n",
       "      <td>...</td>\n",
       "      <td>0.0</td>\n",
       "      <td>0.081596</td>\n",
       "      <td>0.035294</td>\n",
       "      <td>0.025166</td>\n",
       "      <td>0.051963</td>\n",
       "      <td>0.760563</td>\n",
       "      <td>0.036364</td>\n",
       "      <td>0.254416</td>\n",
       "      <td>0.178482</td>\n",
       "      <td>0.049617</td>\n",
       "    </tr>\n",
       "    <tr>\n",
       "      <th>...</th>\n",
       "      <td>...</td>\n",
       "      <td>...</td>\n",
       "      <td>...</td>\n",
       "      <td>...</td>\n",
       "      <td>...</td>\n",
       "      <td>...</td>\n",
       "      <td>...</td>\n",
       "      <td>...</td>\n",
       "      <td>...</td>\n",
       "      <td>...</td>\n",
       "      <td>...</td>\n",
       "      <td>...</td>\n",
       "      <td>...</td>\n",
       "      <td>...</td>\n",
       "      <td>...</td>\n",
       "      <td>...</td>\n",
       "      <td>...</td>\n",
       "      <td>...</td>\n",
       "      <td>...</td>\n",
       "      <td>...</td>\n",
       "      <td>...</td>\n",
       "    </tr>\n",
       "    <tr>\n",
       "      <th>4951</th>\n",
       "      <td>0.7000</td>\n",
       "      <td>0.040677</td>\n",
       "      <td>0.102857</td>\n",
       "      <td>0.836364</td>\n",
       "      <td>0.000000</td>\n",
       "      <td>0.000000</td>\n",
       "      <td>0.073710</td>\n",
       "      <td>0.003931</td>\n",
       "      <td>0.038555</td>\n",
       "      <td>1.0</td>\n",
       "      <td>...</td>\n",
       "      <td>0.0</td>\n",
       "      <td>0.044537</td>\n",
       "      <td>0.025882</td>\n",
       "      <td>0.026165</td>\n",
       "      <td>0.017423</td>\n",
       "      <td>0.605634</td>\n",
       "      <td>0.836364</td>\n",
       "      <td>0.027996</td>\n",
       "      <td>0.027845</td>\n",
       "      <td>0.000000</td>\n",
       "    </tr>\n",
       "    <tr>\n",
       "      <th>4952</th>\n",
       "      <td>0.5875</td>\n",
       "      <td>0.004350</td>\n",
       "      <td>0.109714</td>\n",
       "      <td>0.890909</td>\n",
       "      <td>0.007299</td>\n",
       "      <td>0.007299</td>\n",
       "      <td>0.004914</td>\n",
       "      <td>0.002156</td>\n",
       "      <td>0.005073</td>\n",
       "      <td>1.0</td>\n",
       "      <td>...</td>\n",
       "      <td>0.0</td>\n",
       "      <td>0.016198</td>\n",
       "      <td>0.020000</td>\n",
       "      <td>0.000000</td>\n",
       "      <td>0.001025</td>\n",
       "      <td>0.422535</td>\n",
       "      <td>0.890909</td>\n",
       "      <td>0.020328</td>\n",
       "      <td>0.000000</td>\n",
       "      <td>0.000000</td>\n",
       "    </tr>\n",
       "    <tr>\n",
       "      <th>4953</th>\n",
       "      <td>0.7500</td>\n",
       "      <td>0.047333</td>\n",
       "      <td>0.112000</td>\n",
       "      <td>0.836364</td>\n",
       "      <td>0.197080</td>\n",
       "      <td>0.043796</td>\n",
       "      <td>0.152334</td>\n",
       "      <td>0.031953</td>\n",
       "      <td>0.101258</td>\n",
       "      <td>0.0</td>\n",
       "      <td>...</td>\n",
       "      <td>0.0</td>\n",
       "      <td>0.017489</td>\n",
       "      <td>0.002353</td>\n",
       "      <td>0.016625</td>\n",
       "      <td>0.012299</td>\n",
       "      <td>0.619718</td>\n",
       "      <td>0.836364</td>\n",
       "      <td>0.002545</td>\n",
       "      <td>0.017693</td>\n",
       "      <td>0.000000</td>\n",
       "    </tr>\n",
       "    <tr>\n",
       "      <th>4954</th>\n",
       "      <td>0.4875</td>\n",
       "      <td>0.006343</td>\n",
       "      <td>0.120000</td>\n",
       "      <td>0.854545</td>\n",
       "      <td>0.007299</td>\n",
       "      <td>0.000000</td>\n",
       "      <td>0.034398</td>\n",
       "      <td>0.000211</td>\n",
       "      <td>0.006494</td>\n",
       "      <td>1.0</td>\n",
       "      <td>...</td>\n",
       "      <td>0.0</td>\n",
       "      <td>0.026991</td>\n",
       "      <td>0.000000</td>\n",
       "      <td>0.000000</td>\n",
       "      <td>0.001230</td>\n",
       "      <td>0.450704</td>\n",
       "      <td>0.854545</td>\n",
       "      <td>0.000000</td>\n",
       "      <td>0.000000</td>\n",
       "      <td>0.000000</td>\n",
       "    </tr>\n",
       "    <tr>\n",
       "      <th>4955</th>\n",
       "      <td>0.4750</td>\n",
       "      <td>0.048956</td>\n",
       "      <td>0.105143</td>\n",
       "      <td>0.854545</td>\n",
       "      <td>0.000000</td>\n",
       "      <td>0.000000</td>\n",
       "      <td>0.113022</td>\n",
       "      <td>0.009806</td>\n",
       "      <td>0.075284</td>\n",
       "      <td>0.0</td>\n",
       "      <td>...</td>\n",
       "      <td>0.0</td>\n",
       "      <td>0.061060</td>\n",
       "      <td>0.024000</td>\n",
       "      <td>0.012806</td>\n",
       "      <td>0.019781</td>\n",
       "      <td>0.492958</td>\n",
       "      <td>0.854545</td>\n",
       "      <td>0.025240</td>\n",
       "      <td>0.013250</td>\n",
       "      <td>0.000000</td>\n",
       "    </tr>\n",
       "  </tbody>\n",
       "</table>\n",
       "<p>4956 rows × 47 columns</p>\n",
       "</div>"
      ],
      "text/plain": [
       "      imdbRating  ratingCount  duration      year  nrOfWins  nrOfNominations  \\\n",
       "0         0.8500     0.065575  0.140571  0.000000  0.131387         0.058394   \n",
       "1         0.8750     0.250699  0.122286  0.000000  0.043796         0.036496   \n",
       "2         0.8125     0.039833  0.150857  0.018182  0.109489         0.102190   \n",
       "3         0.8375     0.024328  0.210286  0.018182  0.124088         0.153285   \n",
       "4         0.8500     0.118918  0.244571  0.036364  0.145985         0.094891   \n",
       "...          ...          ...       ...       ...       ...              ...   \n",
       "4951      0.7000     0.040677  0.102857  0.836364  0.000000         0.000000   \n",
       "4952      0.5875     0.004350  0.109714  0.890909  0.007299         0.007299   \n",
       "4953      0.7500     0.047333  0.112000  0.836364  0.197080         0.043796   \n",
       "4954      0.4875     0.006343  0.120000  0.854545  0.007299         0.000000   \n",
       "4955      0.4750     0.048956  0.105143  0.854545  0.000000         0.000000   \n",
       "\n",
       "      nrOfPhotos  nrOfNewsArticles  nrOfUserReviews  nrOfGenre  ...  Western  \\\n",
       "0       0.088452          0.008918         0.044846        1.0  ...      0.0   \n",
       "1       0.383292          0.087025         0.179586        1.0  ...      0.0   \n",
       "2       0.071253          0.005495         0.029424        0.5  ...      0.0   \n",
       "3       0.073710          0.004142         0.031656        1.0  ...      0.0   \n",
       "4       0.223587          0.039265         0.103287        1.0  ...      0.0   \n",
       "...          ...               ...              ...        ...  ...      ...   \n",
       "4951    0.073710          0.003931         0.038555        1.0  ...      0.0   \n",
       "4952    0.004914          0.002156         0.005073        1.0  ...      0.0   \n",
       "4953    0.152334          0.031953         0.101258        0.0  ...      0.0   \n",
       "4954    0.034398          0.000211         0.006494        1.0  ...      0.0   \n",
       "4955    0.113022          0.009806         0.075284        0.0  ...      0.0   \n",
       "\n",
       "      popularity    budget   revenue  vote_count  vote_average  release_year  \\\n",
       "0       0.066121  0.007059  0.008988    0.023060      0.816901      0.000000   \n",
       "1       0.182336  0.001899  0.011505    0.119914      0.830986      0.000000   \n",
       "2       0.020264  0.004706  0.000000    0.009122      0.732394      0.018182   \n",
       "3       0.037543  0.007059  0.003595    0.005842      0.647887      0.018182   \n",
       "4       0.081596  0.035294  0.025166    0.051963      0.760563      0.036364   \n",
       "...          ...       ...       ...         ...           ...           ...   \n",
       "4951    0.044537  0.025882  0.026165    0.017423      0.605634      0.836364   \n",
       "4952    0.016198  0.020000  0.000000    0.001025      0.422535      0.890909   \n",
       "4953    0.017489  0.002353  0.016625    0.012299      0.619718      0.836364   \n",
       "4954    0.026991  0.000000  0.000000    0.001230      0.450704      0.854545   \n",
       "4955    0.061060  0.024000  0.012806    0.019781      0.492958      0.854545   \n",
       "\n",
       "      budget_adj  revenue_adj  Description  \n",
       "0       0.052044     0.065198     0.104505  \n",
       "1       0.013999     0.083454     0.289934  \n",
       "2       0.034329     0.000000     0.004577  \n",
       "3       0.051493     0.025803     0.012053  \n",
       "4       0.254416     0.178482     0.049617  \n",
       "...          ...          ...          ...  \n",
       "4951    0.027996     0.027845     0.000000  \n",
       "4952    0.020328     0.000000     0.000000  \n",
       "4953    0.002545     0.017693     0.000000  \n",
       "4954    0.000000     0.000000     0.000000  \n",
       "4955    0.025240     0.013250     0.000000  \n",
       "\n",
       "[4956 rows x 47 columns]"
      ]
     },
     "execution_count": 104,
     "metadata": {},
     "output_type": "execute_result"
    }
   ],
   "source": [
    "tempscale"
   ]
  },
  {
   "cell_type": "code",
   "execution_count": 219,
   "metadata": {},
   "outputs": [],
   "source": [
    "rp = []\n",
    "for index, row in tempscalecopy.iterrows():\n",
    "    calc = 0.8*100*row['budget_adj']+0.6*100*row['revenue_adj'] + 0.4*row['nrOfWins'] + 0.2*row['nrOfNominations'] + 0.1*row['nrOfNewsArticles']\n",
    "    rp.append(calc)"
   ]
  },
  {
   "cell_type": "code",
   "execution_count": 140,
   "metadata": {},
   "outputs": [
    {
     "data": {
      "text/plain": [
       "105.6819050841823"
      ]
     },
     "execution_count": 140,
     "metadata": {},
     "output_type": "execute_result"
    }
   ],
   "source": [
    "max(rp)"
   ]
  },
  {
   "cell_type": "code",
   "execution_count": 190,
   "metadata": {},
   "outputs": [],
   "source": [
    "tempscale = tempscale[['imdbRating', 'ratingCount', 'duration', 'nrOfPhotos', 'nrOfUserReviews', 'Action', 'Adult', 'Adventure', 'Animation', 'Biography',\n",
    "       'Comedy', 'Crime', 'Documentary', 'Drama', 'Family', 'Fantasy',\n",
    "       'FilmNoir', 'GameShow', 'History', 'Horror', 'Music', 'Musical',\n",
    "       'Mystery', 'News', 'RealityTV', 'Romance', 'SciFi', 'Short', 'Sport',\n",
    "       'TalkShow', 'Thriller', 'War', 'Western', 'vote_count', 'Description']]"
   ]
  },
  {
   "cell_type": "code",
   "execution_count": 128,
   "metadata": {},
   "outputs": [],
   "source": [
    "tempscalecopy = tempscale.copy()"
   ]
  },
  {
   "cell_type": "code",
   "execution_count": 145,
   "metadata": {},
   "outputs": [
    {
     "name": "stderr",
     "output_type": "stream",
     "text": [
      "/home/harshith/anaconda3/lib/python3.7/site-packages/ipykernel_launcher.py:1: SettingWithCopyWarning: \n",
      "A value is trying to be set on a copy of a slice from a DataFrame.\n",
      "Try using .loc[row_indexer,col_indexer] = value instead\n",
      "\n",
      "See the caveats in the documentation: http://pandas.pydata.org/pandas-docs/stable/user_guide/indexing.html#returning-a-view-versus-a-copy\n",
      "  \"\"\"Entry point for launching an IPython kernel.\n"
     ]
    }
   ],
   "source": [
    "tempscale['popularity'] = tempscale['popularity'] / 100"
   ]
  },
  {
   "cell_type": "code",
   "execution_count": 153,
   "metadata": {},
   "outputs": [
    {
     "data": {
      "text/plain": [
       "3211"
      ]
     },
     "execution_count": 153,
     "metadata": {},
     "output_type": "execute_result"
    }
   ],
   "source": [
    "tempscale.popularity.idxmax()"
   ]
  },
  {
   "cell_type": "code",
   "execution_count": 154,
   "metadata": {},
   "outputs": [
    {
     "data": {
      "text/plain": [
       "44.610241809922385"
      ]
     },
     "execution_count": 154,
     "metadata": {},
     "output_type": "execute_result"
    }
   ],
   "source": [
    "rp[3211]"
   ]
  },
  {
   "cell_type": "code",
   "execution_count": 218,
   "metadata": {},
   "outputs": [],
   "source": [
    "tempscalecopy2 = tempscalecopy.copy()\n"
   ]
  },
  {
   "cell_type": "code",
   "execution_count": 184,
   "metadata": {},
   "outputs": [
    {
     "data": {
      "image/png": "[encoded data removed]",
      "text/plain": [
       "<Figure size 432x288 with 1 Axes>"
      ]
     },
     "metadata": {
      "needs_background": "light"
     },
     "output_type": "display_data"
    }
   ],
   "source": [
    "plt.figure()\n",
    "\n",
    "x = tempscale.index.values[150:200]\n",
    "y1 = tempscale['rp'][150:200]\n",
    "y2 = tempscale['popularity'][150:200]\n",
    "\n",
    "plt.plot(x,y1,label = 'Release Popularity')\n",
    "plt.plot(x,y2,label = 'Current Popularity')\n",
    "plt.legend(loc=\"upper left\")\n",
    "plt.title(\"Movie ID vs Popularity(Past and Present)\")\n",
    "plt.xlabel(\"Movie ID\")\n",
    "plt.ylabel(\"Popularity\")\n",
    "plt.savefig('ab.png',dpi = 200)"
   ]
  },
  {
   "cell_type": "code",
   "execution_count": 185,
   "metadata": {},
   "outputs": [],
   "source": [
    "end = []\n",
    "for index, row in tempscale.iterrows():\n",
    "    calc = row['popularity'] - row['rp']\n",
    "    end.append(calc)"
   ]
  },
  {
   "cell_type": "code",
   "execution_count": 209,
   "metadata": {},
   "outputs": [],
   "source": [
    "from sklearn.model_selection import train_test_split,GridSearchCV\n",
    "from sklearn.linear_model import LinearRegression\n",
    "from sklearn.linear_model import Ridge,SVC\n",
    "\n",
    "newX=tempscale.drop('endurance',axis=1)\n",
    "newY = tempscale['endurance']\n",
    "X_train,X_test,y_train,y_test=train_test_split(newX,newY,test_size=0.3,random_state=3)\n",
    "\n",
    "rr = Ridge() # higher the alpha value, more restriction on the coefficients; low alpha > more generalization, coefficients are barely\n",
    "# restricted and in this case linear and ridge regression resembles\n",
    "#param = {'alpha':[0.1,1,10] }\n",
    "#ridgereg = GridSearchCV(rr,param,scoring='neg_mean_squared_error',cv=5)\n",
    "#ridgereg.fit(newX,newY)\n",
    "ridgeReg = Ridge(alpha=0.05, normalize=True)\n",
    "\n",
    "ridgeReg.fit(X_train,y_train)\n",
    "\n",
    "pred = ridgeReg.predict(X_test)\n",
    "\n",
    "mse = np.sqrt(np.mean((pred - y_test)**2))"
   ]
  },
  {
   "cell_type": "code",
   "execution_count": 255,
   "metadata": {},
   "outputs": [
    {
     "data": {
      "text/plain": [
       "7.299562687931349"
      ]
     },
     "execution_count": 255,
     "metadata": {},
     "output_type": "execute_result"
    }
   ],
   "source": [
    "mse"
   ]
  },
  {
   "cell_type": "code",
   "execution_count": 252,
   "metadata": {},
   "outputs": [],
   "source": [
    "\n",
    "from sklearn.svm import SVC\n",
    "clf = SVC(gamma='auto')\n",
    "clf.fit(X_trainsvm,y_trainsvm )\n",
    "SVC(gamma='auto')\n",
    "predsvm = clf.predict(X_testsvm)"
   ]
  },
  {
   "cell_type": "code",
   "execution_count": 229,
   "metadata": {},
   "outputs": [],
   "source": [
    "end = []\n",
    "for index, row in tempscalecopy.iterrows():\n",
    "    calc = row['popularity'] - row['rp']\n",
    "    if(calc < 0 ):\n",
    "        end.append(1)\n",
    "    else:\n",
    "        end.append(0)\n",
    "    "
   ]
  },
  {
   "cell_type": "code",
   "execution_count": 247,
   "metadata": {},
   "outputs": [],
   "source": [
    "newXsvm=tempscalecopy.drop('endurance',axis=1)\n",
    "newYsvm = tempscalecopy['endurance']\n",
    "newYsvm.astype('int')\n"
   ]
  },
  {
   "cell_type": "code",
   "execution_count": 248,
   "metadata": {},
   "outputs": [],
   "source": [
    "from sklearn import preprocessing\n",
    "from sklearn import utils\n",
    "\n",
    "lab_enc = preprocessing.LabelEncoder()\n",
    "encoded = lab_enc.fit_transform(newYsvm)"
   ]
  },
  {
   "cell_type": "code",
   "execution_count": 250,
   "metadata": {},
   "outputs": [],
   "source": [
    "X_trainsvm,X_testsvm,y_trainsvm,y_testsvm=train_test_split(newX,encoded,test_size=0.3,random_state=3)\n"
   ]
  },
  {
   "cell_type": "code",
   "execution_count": 253,
   "metadata": {},
   "outputs": [
    {
     "data": {
      "text/plain": [
       "0.6294552790854069"
      ]
     },
     "execution_count": 253,
     "metadata": {},
     "output_type": "execute_result"
    }
   ],
   "source": [
    "from sklearn.metrics import accuracy_score\n",
    "accuracy_score(y_testsvm,predsvm)"
   ]
  }
 ],
 "metadata": {
  "kernelspec": {
   "display_name": "Python 3",
   "language": "python",
   "name": "python3"
  },
  "language_info": {
   "codemirror_mode": {
    "name": "ipython",
    "version": 3
   },
   "file_extension": ".py",
   "mimetype": "text/x-python",
   "name": "python",
   "nbconvert_exporter": "python",
   "pygments_lexer": "ipython3",
   "version": "3.7.3"
  }
 },
 "nbformat": 4,
 "nbformat_minor": 2
}
