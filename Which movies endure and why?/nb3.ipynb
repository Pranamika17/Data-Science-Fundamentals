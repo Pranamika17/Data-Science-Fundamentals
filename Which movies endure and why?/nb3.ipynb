{
 "cells": [
  {
   "cell_type": "code",
   "execution_count": 2,
   "metadata": {},
   "outputs": [],
   "source": [
    "import numpy as np\n",
    "import pandas as pd\n",
    "import matplotlib.pyplot as plt\n",
    "import seaborn as sns\n",
    "from scipy.stats import norm\n",
    "from sklearn.preprocessing import StandardScaler\n",
    "from scipy import stats"
   ]
  },
  {
   "cell_type": "code",
   "execution_count": null,
   "metadata": {},
   "outputs": [],
   "source": [
    "name = pd.read_csv('data.tsv', sep='\\t',na_values=[r'\\N'])"
   ]
  },
  {
   "cell_type": "code",
   "execution_count": null,
   "metadata": {},
   "outputs": [],
   "source": [
    "ratings = pd.read_csv('ratings.tsv', sep='\\t',na_values=[r'\\N'])"
   ]
  },
  {
   "cell_type": "code",
   "execution_count": null,
   "metadata": {},
   "outputs": [],
   "source": [
    "ratings.dtypes"
   ]
  },
  {
   "cell_type": "code",
   "execution_count": null,
   "metadata": {},
   "outputs": [],
   "source": [
    "plt.figure(figsize=(10, 10))\n",
    "plt.scatter(ratings.loc[:,\"numVotes\"],ratings.loc[:,\"averageRating\"])\n",
    "plt.title(\"Average Rating vs Number of Votes\")\n",
    "plt.ylabel(\"Average Rating\")\n",
    "plt.xlabel(\"Number of Votes\");"
   ]
  },
  {
   "cell_type": "code",
   "execution_count": null,
   "metadata": {},
   "outputs": [],
   "source": [
    "temp = ratings.filter(['averageRating','numVotes'],axis=1)\n",
    "temp = temp[temp.columns].astype(float)\n",
    "from scipy.stats import gaussian_kde\n",
    "from scipy.interpolate import interpn\n",
    "y = temp['averageRating']\n",
    "x = temp['numVotes']\n",
    "data , x_e, y_e = np.histogram2d( x, y, bins = [15,15])\n",
    "z = interpn( ( 0.5*(x_e[1:] + x_e[:-1]) , 0.5*(y_e[1:]+y_e[:-1]) ) , data , np.vstack([x,y]).T , method = \"splinef2d\", bounds_error = False )\n",
    "idx = z.argsort()\n",
    "x, y, z = x[idx], y[idx], z[idx]\n",
    "plt.figure(figsize=(10, 10))\n",
    "plt.scatter( x, y, c=z, s=50, edgecolor='')\n",
    "#plt.xticks(range(1, 10000))\n",
    "plt.title(\"Average Rating vs Number of Votes density plot\")\n",
    "plt.ylabel(\"Average Rating\")\n",
    "plt.xlabel(\"Number of Votes\");\n",
    "plt.savefig('2.png',dpi = 300)\n",
    "plt.show()\n"
   ]
  },
  {
   "cell_type": "code",
   "execution_count": null,
   "metadata": {},
   "outputs": [],
   "source": [
    "basics = pd.read_csv('basics.tsv', sep='\\t',na_values=[r'\\N'])"
   ]
  },
  {
   "cell_type": "code",
   "execution_count": null,
   "metadata": {},
   "outputs": [],
   "source": [
    "#temp['genres'].str.rstrip('Short')\n",
    "#basics['extra'] = basics['genres'].str[-5:]\n",
    "basics = basics.dropna(subset=['runtimeMinutes'])\n",
    "\n",
    "basics[basics['runtimeMinutes'].astype(int)>90]['extra'].value_counts()"
   ]
  },
  {
   "cell_type": "code",
   "execution_count": null,
   "metadata": {},
   "outputs": [],
   "source": [
    "basics"
   ]
  },
  {
   "cell_type": "code",
   "execution_count": null,
   "metadata": {},
   "outputs": [],
   "source": []
  },
  {
   "cell_type": "code",
   "execution_count": null,
   "metadata": {},
   "outputs": [],
   "source": [
    "basics\n",
    "ratings\n",
    "basics = pd.merge(ratings, basics, on='tconst', how='left')"
   ]
  },
  {
   "cell_type": "code",
   "execution_count": null,
   "metadata": {},
   "outputs": [],
   "source": [
    "temp = basics.filter(['averageRating','runtimeMinutes'],axis=1)\n",
    "temp = temp.dropna()\n",
    "temp = temp.apply(lambda x: pd.to_numeric(x, errors = 'coerce')).dropna()\n",
    "temp = temp[temp.columns].astype(float)\n",
    "temp\n",
    "    "
   ]
  },
  {
   "cell_type": "code",
   "execution_count": null,
   "metadata": {
    "scrolled": true
   },
   "outputs": [],
   "source": [
    "temp2 = temp.loc[(temp['runtimeMinutes'] >= 1) & (temp['runtimeMinutes'] <= 240)]\n",
    "plt.figure(figsize=(10, 10))\n",
    "plt.scatter(temp2.loc[:,\"runtimeMinutes\"],temp2.loc[:,\"averageRating\"])\n",
    "plt.title(\"Average Rating vs Number of Votes\")\n",
    "plt.ylabel(\"Average Rating\")\n",
    "plt.xlabel(\"Runtime Minutes\");"
   ]
  },
  {
   "cell_type": "code",
   "execution_count": null,
   "metadata": {},
   "outputs": [],
   "source": [
    "x = temp2['runtimeMinutes']\n",
    "y = temp2['averageRating']\n",
    "bins = [30, 30] # number of bins\n",
    "\n",
    "# histogram the data\n",
    "hh, locx, locy = np.histogram2d(x, y, bins=bins)\n",
    "\n",
    "# Sort the points by density, so that the densest points are plotted last\n",
    "z = np.array([hh[np.argmax(a<=locx[1:]),np.argmax(b<=locy[1:])] for a,b in zip(x,y)])\n",
    "idx = z.argsort()\n",
    "x2, y2, z2 = x[idx], y[idx], z[idx]\n",
    "\n",
    "plt.figure(1,figsize=(8,8)).clf()\n",
    "s = plt.scatter(x2, y2, c=z2, cmap='jet', marker='.')  \n",
    "plt.title(\"Average Rating vs Runtime density plot\")\n",
    "plt.ylabel(\"Average Rating\")\n",
    "plt.xlabel(\"Runtime(minutes)\");\n",
    "plt.savefig('1.png',dpi = 300)\n",
    "plt.show()"
   ]
  },
  {
   "cell_type": "code",
   "execution_count": null,
   "metadata": {},
   "outputs": [],
   "source": [
    "plt.figure(1,figsize=(8,8)).clf()\n",
    "s = plt.scatter(x2, y2, c=z2, s=50, cmap='jet',\n",
    "    edgecolor='', label=None, picker=True, zorder=2) "
   ]
  },
  {
   "cell_type": "code",
   "execution_count": null,
   "metadata": {},
   "outputs": [],
   "source": [
    "plt.hist2d(x, y, (100, 100), cmap=plt.cm.jet)\n",
    "plt.colorbar()\n",
    "plt.title(\"Average Rating vs Runtime density plot\")\n",
    "plt.ylabel(\"Average Rating\")\n",
    "plt.xlabel(\"Runtime(minutes)\");\n",
    "plt.savefig('4.png',dpi = 300)\n",
    "plt.show()"
   ]
  },
  {
   "cell_type": "code",
   "execution_count": null,
   "metadata": {},
   "outputs": [],
   "source": [
    "fig, ax = plt.subplots(figsize=(15,7))\n",
    "temp.groupby(['averageRating']).count()['runtimeMinutes'].plot(ax=ax)\n",
    "plt.title(\"Average Rating Distribution\")\n",
    "plt.ylabel(\"Count\")\n",
    "plt.xlabel(\"Average Rating\");\n",
    "plt.savefig('5.png',dpi = 300)\n",
    "plt.show()"
   ]
  },
  {
   "cell_type": "code",
   "execution_count": null,
   "metadata": {
    "scrolled": false
   },
   "outputs": [],
   "source": [
    "temp = basics.loc[(basics['titleType']=='movie') & (basics['numVotes'] > 10)]\n",
    "temp\n",
    "temp=temp.dropna(subset=['averageRating', 'startYear'])\n",
    "temp"
   ]
  },
  {
   "cell_type": "code",
   "execution_count": null,
   "metadata": {},
   "outputs": [],
   "source": [
    "x = temp['startYear']\n",
    "y = temp['averageRating']\n",
    "plt.hist2d(x, y, (30, 30), cmap=plt.cm.jet)\n",
    "plt.colorbar()\n",
    "plt.title(\"Average Rating vs Year of Release density plot\")\n",
    "plt.ylabel(\"Average Rating\")\n",
    "plt.xlabel(\"Year of Release\");\n",
    "plt.savefig('7.png',dpi = 300)\n",
    "plt.show()"
   ]
  },
  {
   "cell_type": "code",
   "execution_count": null,
   "metadata": {},
   "outputs": [],
   "source": [
    "box = pd.read_csv('boxoffice.csv')\n",
    "awards = pd.read_csv('database.csv')"
   ]
  },
  {
   "cell_type": "code",
   "execution_count": null,
   "metadata": {},
   "outputs": [],
   "source": [
    "awards\n",
    "awards.Award.unique()\n",
    "temp = awards.loc[(awards['Award']=='Best Motion Picture') | (awards['Award']=='Best Picture')]\n",
    "temp"
   ]
  },
  {
   "cell_type": "code",
   "execution_count": null,
   "metadata": {},
   "outputs": [],
   "source": [
    "temp = temp.rename(columns={\"Name\": \"title\"})"
   ]
  },
  {
   "cell_type": "code",
   "execution_count": null,
   "metadata": {},
   "outputs": [],
   "source": [
    "temp['title'] = temp['title'].str.rstrip(' ')\n",
    "temp"
   ]
  },
  {
   "cell_type": "code",
   "execution_count": null,
   "metadata": {
    "scrolled": false
   },
   "outputs": [],
   "source": [
    "oscar = pd.merge(temp, box, how='left', on='title')\n",
    "oscar"
   ]
  },
  {
   "cell_type": "code",
   "execution_count": null,
   "metadata": {},
   "outputs": [],
   "source": [
    "oscar.Year = oscar.Year.astype(int)\n",
    "oscar = oscar.loc[oscar['Year']>1970]\n",
    "oscar"
   ]
  },
  {
   "cell_type": "code",
   "execution_count": null,
   "metadata": {},
   "outputs": [],
   "source": [
    "oscar = oscar.dropna(subset=['lifetime_gross'])\n",
    "oscar"
   ]
  },
  {
   "cell_type": "code",
   "execution_count": null,
   "metadata": {
    "scrolled": true
   },
   "outputs": [],
   "source": [
    "temp3 = oscar.groupby(['Year']).mean()\n",
    "temp3['limetime_gross2'] = temp3['lifetime_gross']/1000000\n",
    "temp3"
   ]
  },
  {
   "cell_type": "code",
   "execution_count": null,
   "metadata": {
    "scrolled": true
   },
   "outputs": [],
   "source": [
    "plt.plot(temp3['year'], temp3['limetime_gross2'])\n",
    "plt.title(\"Average Gross of Oscar Nominated Movies vs Yar\")\n",
    "plt.ylabel(\"Average Gross(Non Inflated)\")\n",
    "plt.xlabel(\"Year\");\n",
    "plt.savefig('8.png',dpi = 300)\n",
    "plt.show()"
   ]
  },
  {
   "cell_type": "code",
   "execution_count": null,
   "metadata": {},
   "outputs": [],
   "source": [
    "#xl = pd.read_excel('cpi.xlsx', sheet_name=None)\n",
    "file = 'cpi.xlsx'\n",
    "xl = pd.ExcelFile(file)\n",
    "print(xl.sheet_names)\n",
    "df1 = xl.parse('Sheet1')\n",
    "df1 = df1.dropna()\n"
   ]
  },
  {
   "cell_type": "code",
   "execution_count": null,
   "metadata": {},
   "outputs": [],
   "source": [
    "df1 = df1.rename(columns={\"Year\": \"year\"})\n",
    "temp3.year = temp3.year.astype(int)\n",
    "df1.year = df1.year.astype(int)\n",
    "#df1.drop(df1.tail(1).index,inplace=True)\n",
    "df1"
   ]
  },
  {
   "cell_type": "code",
   "execution_count": null,
   "metadata": {},
   "outputs": [],
   "source": [
    "temp4 = pd.merge(temp3, df1, how='left', on='year')\n",
    "temp4['inflated'] = temp4['limetime_gross2']*(236/temp4['Annual Average'])\n",
    "temp4"
   ]
  },
  {
   "cell_type": "code",
   "execution_count": null,
   "metadata": {},
   "outputs": [],
   "source": [
    "plt.plot(temp4['year'], temp4['inflated'])\n",
    "plt.title(\"Average Gross of Oscar Nominated Movies vs Year\")\n",
    "plt.ylabel(\"Average Gross(Inflated)\")\n",
    "plt.xlabel(\"Year\");\n",
    "plt.savefig('9.png',dpi = 300)\n",
    "plt.show()"
   ]
  },
  {
   "cell_type": "code",
   "execution_count": 5,
   "metadata": {},
   "outputs": [],
   "source": [
    "awards = pd.read_csv('query.tsv', sep='\\t',na_values=[r'\\N'])"
   ]
  },
  {
   "cell_type": "code",
   "execution_count": 7,
   "metadata": {},
   "outputs": [
    {
     "data": {
      "text/html": [
       "<div>\n",
       "<style scoped>\n",
       "    .dataframe tbody tr th:only-of-type {\n",
       "        vertical-align: middle;\n",
       "    }\n",
       "\n",
       "    .dataframe tbody tr th {\n",
       "        vertical-align: top;\n",
       "    }\n",
       "\n",
       "    .dataframe thead th {\n",
       "        text-align: right;\n",
       "    }\n",
       "</style>\n",
       "<table border=\"1\" class=\"dataframe\">\n",
       "  <thead>\n",
       "    <tr style=\"text-align: right;\">\n",
       "      <th></th>\n",
       "      <th>human</th>\n",
       "      <th>humanLabel</th>\n",
       "      <th>awardEditionLabel</th>\n",
       "      <th>awardLabel</th>\n",
       "      <th>awardWork</th>\n",
       "      <th>awardWorkLabel</th>\n",
       "      <th>director</th>\n",
       "      <th>directorLabel</th>\n",
       "      <th>time</th>\n",
       "    </tr>\n",
       "  </thead>\n",
       "  <tbody>\n",
       "    <tr>\n",
       "      <th>1896</th>\n",
       "      <td>http://www.wikidata.org/entity/Q22101772</td>\n",
       "      <td>Robert Amram</td>\n",
       "      <td>44th Academy Awards</td>\n",
       "      <td>Academy Award for Best Live Action Short Film</td>\n",
       "      <td>http://www.wikidata.org/entity/Q7451352</td>\n",
       "      <td>Sentinels of Silence</td>\n",
       "      <td>NaN</td>\n",
       "      <td>NaN</td>\n",
       "      <td>NaN</td>\n",
       "    </tr>\n",
       "    <tr>\n",
       "      <th>1897</th>\n",
       "      <td>http://www.wikidata.org/entity/Q15854394</td>\n",
       "      <td>Wilbur T. Blume</td>\n",
       "      <td>28th Academy Awards</td>\n",
       "      <td>Academy Award for Best Live Action Short Film,...</td>\n",
       "      <td>http://www.wikidata.org/entity/Q7733033</td>\n",
       "      <td>The Face of Lincoln</td>\n",
       "      <td>NaN</td>\n",
       "      <td>NaN</td>\n",
       "      <td>NaN</td>\n",
       "    </tr>\n",
       "    <tr>\n",
       "      <th>1898</th>\n",
       "      <td>http://www.wikidata.org/entity/Q22101716</td>\n",
       "      <td>Joan Keller Stern</td>\n",
       "      <td>42nd Academy Awards</td>\n",
       "      <td>Academy Award for Best Live Action Short Film</td>\n",
       "      <td>http://www.wikidata.org/entity/Q7749449</td>\n",
       "      <td>The Magic Machines</td>\n",
       "      <td>NaN</td>\n",
       "      <td>NaN</td>\n",
       "      <td>NaN</td>\n",
       "    </tr>\n",
       "    <tr>\n",
       "      <th>1899</th>\n",
       "      <td>http://www.wikidata.org/entity/Q6245206</td>\n",
       "      <td>John Longenecker</td>\n",
       "      <td>43rd Academy Awards</td>\n",
       "      <td>Academy Award for Best Live Action Short Film</td>\n",
       "      <td>http://www.wikidata.org/entity/Q7760352</td>\n",
       "      <td>The Resurrection of Broncho Billy</td>\n",
       "      <td>NaN</td>\n",
       "      <td>NaN</td>\n",
       "      <td>NaN</td>\n",
       "    </tr>\n",
       "    <tr>\n",
       "      <th>1900</th>\n",
       "      <td>http://www.wikidata.org/entity/Q22110362</td>\n",
       "      <td>James Hendrie</td>\n",
       "      <td>62nd Academy Awards</td>\n",
       "      <td>Academy Award for Best Live Action Short Film</td>\n",
       "      <td>http://www.wikidata.org/entity/Q8034562</td>\n",
       "      <td>Work Experience</td>\n",
       "      <td>NaN</td>\n",
       "      <td>NaN</td>\n",
       "      <td>NaN</td>\n",
       "    </tr>\n",
       "  </tbody>\n",
       "</table>\n",
       "</div>"
      ],
      "text/plain": [
       "                                         human         humanLabel  \\\n",
       "1896  http://www.wikidata.org/entity/Q22101772       Robert Amram   \n",
       "1897  http://www.wikidata.org/entity/Q15854394    Wilbur T. Blume   \n",
       "1898  http://www.wikidata.org/entity/Q22101716  Joan Keller Stern   \n",
       "1899   http://www.wikidata.org/entity/Q6245206   John Longenecker   \n",
       "1900  http://www.wikidata.org/entity/Q22110362      James Hendrie   \n",
       "\n",
       "        awardEditionLabel                                         awardLabel  \\\n",
       "1896  44th Academy Awards      Academy Award for Best Live Action Short Film   \n",
       "1897  28th Academy Awards  Academy Award for Best Live Action Short Film,...   \n",
       "1898  42nd Academy Awards      Academy Award for Best Live Action Short Film   \n",
       "1899  43rd Academy Awards      Academy Award for Best Live Action Short Film   \n",
       "1900  62nd Academy Awards      Academy Award for Best Live Action Short Film   \n",
       "\n",
       "                                    awardWork  \\\n",
       "1896  http://www.wikidata.org/entity/Q7451352   \n",
       "1897  http://www.wikidata.org/entity/Q7733033   \n",
       "1898  http://www.wikidata.org/entity/Q7749449   \n",
       "1899  http://www.wikidata.org/entity/Q7760352   \n",
       "1900  http://www.wikidata.org/entity/Q8034562   \n",
       "\n",
       "                         awardWorkLabel director directorLabel time  \n",
       "1896               Sentinels of Silence      NaN           NaN  NaN  \n",
       "1897                The Face of Lincoln      NaN           NaN  NaN  \n",
       "1898                 The Magic Machines      NaN           NaN  NaN  \n",
       "1899  The Resurrection of Broncho Billy      NaN           NaN  NaN  \n",
       "1900                    Work Experience      NaN           NaN  NaN  "
      ]
     },
     "execution_count": 7,
     "metadata": {},
     "output_type": "execute_result"
    }
   ],
   "source": [
    "awards.tail()\n"
   ]
  }
 ],
 "metadata": {
  "kernelspec": {
   "display_name": "Python 3",
   "language": "python",
   "name": "python3"
  },
  "language_info": {
   "codemirror_mode": {
    "name": "ipython",
    "version": 3
   },
   "file_extension": ".py",
   "mimetype": "text/x-python",
   "name": "python",
   "nbconvert_exporter": "python",
   "pygments_lexer": "ipython3",
   "version": "3.7.3"
  }
 },
 "nbformat": 4,
 "nbformat_minor": 2
}
